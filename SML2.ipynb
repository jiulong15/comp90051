{
 "cells": [
  {
   "cell_type": "code",
   "execution_count": 53,
   "id": "28dad01b",
   "metadata": {},
   "outputs": [
    {
     "name": "stdout",
     "output_type": "stream",
     "text": [
      "      Unnamed: 0            LOG_ID            PAT_ID               MRN  \\\n",
      "0              0  d754f06a7d973a26  837532f458d9c660  0b8de903ea63082a   \n",
      "1              1  5a95970d5c8fc355  fd18a41f136ed278  0a8b72c1cec4ae47   \n",
      "2              2  138d44a06cf4b57f  fd18a41f136ed278  0a8b72c1cec4ae47   \n",
      "3              3  82372dc4703ea1b0  648781c95d863ec6  e0cb9244fedd1ac7   \n",
      "4              4  4b6aabaf62e85c0a  d1d7b9ddc4962cdf  3918b79e03cefe27   \n",
      "...          ...               ...               ...               ...   \n",
      "1599        1599  8116aa4a100ceee8  478a3cd8857cc055  72accda5075f7a39   \n",
      "1600        1600  3c146c502e1e249d  fa6ec9ad3f5f1466  2408210232a3e06b   \n",
      "1601        1601  cecd35a626c55d0c  b9878cd048a80cb3  5b9cf2e5349171e8   \n",
      "1602        1602  3333ade5695c0b55  2f091eb1b00105d4  c280ccc5e979b4ef   \n",
      "1603        1603  c34b85c0cf941d8a  b5838d1cdf37c09c  d7946ede59551209   \n",
      "\n",
      "      Cardiovascular   LOS ICU_ADMIN_FLAG  HEIGHT   WEIGHT     SEX  \\\n",
      "0                0.0   1.0             No    6' 2  3089.97    Male   \n",
      "1                0.0  10.0            Yes     NaN  3365.10    Male   \n",
      "2                0.0  10.0            Yes     NaN  3365.10    Male   \n",
      "3                0.0   3.0            Yes    5' 3  2336.88  Female   \n",
      "4                0.0   3.0            Yes     NaN  2879.74    Male   \n",
      "...              ...   ...            ...     ...      ...     ...   \n",
      "1599             1.0  34.0            Yes    5' 5  2405.66    Male   \n",
      "1600             0.0   1.0             No    5' 1  2338.64  Female   \n",
      "1601             1.0  77.0            Yes  5' 5.5  1742.52  Female   \n",
      "1602             0.0   7.0            Yes    5' 4  2380.97  Female   \n",
      "1603             1.0   7.0            Yes    5' 1  1516.76  Female   \n",
      "\n",
      "      ASA_RATING_C Abnormal Flag  \n",
      "0              2.0           NaN  \n",
      "1              3.0           NaN  \n",
      "2              3.0           NaN  \n",
      "3              2.0           NaN  \n",
      "4              2.0             N  \n",
      "...            ...           ...  \n",
      "1599           3.0             N  \n",
      "1600           3.0             H  \n",
      "1601           3.0             N  \n",
      "1602           3.0             N  \n",
      "1603           3.0             L  \n",
      "\n",
      "[1604 rows x 12 columns]\n"
     ]
    }
   ],
   "source": [
    "import pandas as pd\n",
    "df = pd.read_csv('SML2.csv')\n",
    "print(df)"
   ]
  },
  {
   "cell_type": "code",
   "execution_count": 54,
   "id": "e84e0f5f",
   "metadata": {},
   "outputs": [
    {
     "name": "stdout",
     "output_type": "stream",
     "text": [
      "                LOG_ID            PAT_ID               MRN  Cardiovascular  \\\n",
      "0     d754f06a7d973a26  837532f458d9c660  0b8de903ea63082a             0.0   \n",
      "1     5a95970d5c8fc355  fd18a41f136ed278  0a8b72c1cec4ae47             0.0   \n",
      "2     138d44a06cf4b57f  fd18a41f136ed278  0a8b72c1cec4ae47             0.0   \n",
      "3     82372dc4703ea1b0  648781c95d863ec6  e0cb9244fedd1ac7             0.0   \n",
      "4     4b6aabaf62e85c0a  d1d7b9ddc4962cdf  3918b79e03cefe27             0.0   \n",
      "...                ...               ...               ...             ...   \n",
      "1599  8116aa4a100ceee8  478a3cd8857cc055  72accda5075f7a39             1.0   \n",
      "1600  3c146c502e1e249d  fa6ec9ad3f5f1466  2408210232a3e06b             0.0   \n",
      "1601  cecd35a626c55d0c  b9878cd048a80cb3  5b9cf2e5349171e8             1.0   \n",
      "1602  3333ade5695c0b55  2f091eb1b00105d4  c280ccc5e979b4ef             0.0   \n",
      "1603  c34b85c0cf941d8a  b5838d1cdf37c09c  d7946ede59551209             1.0   \n",
      "\n",
      "       LOS ICU_ADMIN_FLAG  HEIGHT   WEIGHT     SEX  ASA_RATING_C Abnormal Flag  \n",
      "0      1.0             No    6' 2  3089.97    Male           2.0           NaN  \n",
      "1     10.0            Yes     NaN  3365.10    Male           3.0           NaN  \n",
      "2     10.0            Yes     NaN  3365.10    Male           3.0           NaN  \n",
      "3      3.0            Yes    5' 3  2336.88  Female           2.0           NaN  \n",
      "4      3.0            Yes     NaN  2879.74    Male           2.0             N  \n",
      "...    ...            ...     ...      ...     ...           ...           ...  \n",
      "1599  34.0            Yes    5' 5  2405.66    Male           3.0             N  \n",
      "1600   1.0             No    5' 1  2338.64  Female           3.0             H  \n",
      "1601  77.0            Yes  5' 5.5  1742.52  Female           3.0             N  \n",
      "1602   7.0            Yes    5' 4  2380.97  Female           3.0             N  \n",
      "1603   7.0            Yes    5' 1  1516.76  Female           3.0             L  \n",
      "\n",
      "[1604 rows x 11 columns]\n"
     ]
    }
   ],
   "source": [
    "df = df.drop(columns=['Unnamed: 0'])\n",
    "print(df)"
   ]
  },
  {
   "cell_type": "code",
   "execution_count": 57,
   "id": "c1dec1d8",
   "metadata": {},
   "outputs": [
    {
     "name": "stdout",
     "output_type": "stream",
     "text": [
      "168.25145853658537\n",
      "                LOG_ID            PAT_ID               MRN  Cardiovascular  \\\n",
      "0     d754f06a7d973a26  837532f458d9c660  0b8de903ea63082a             0.0   \n",
      "1     5a95970d5c8fc355  fd18a41f136ed278  0a8b72c1cec4ae47             0.0   \n",
      "2     138d44a06cf4b57f  fd18a41f136ed278  0a8b72c1cec4ae47             0.0   \n",
      "3     82372dc4703ea1b0  648781c95d863ec6  e0cb9244fedd1ac7             0.0   \n",
      "4     4b6aabaf62e85c0a  d1d7b9ddc4962cdf  3918b79e03cefe27             0.0   \n",
      "...                ...               ...               ...             ...   \n",
      "1599  8116aa4a100ceee8  478a3cd8857cc055  72accda5075f7a39             1.0   \n",
      "1600  3c146c502e1e249d  fa6ec9ad3f5f1466  2408210232a3e06b             0.0   \n",
      "1601  cecd35a626c55d0c  b9878cd048a80cb3  5b9cf2e5349171e8             1.0   \n",
      "1602  3333ade5695c0b55  2f091eb1b00105d4  c280ccc5e979b4ef             0.0   \n",
      "1603  c34b85c0cf941d8a  b5838d1cdf37c09c  d7946ede59551209             1.0   \n",
      "\n",
      "       LOS ICU_ADMIN_FLAG      HEIGHT   WEIGHT     SEX  ASA_RATING_C  \\\n",
      "0      1.0             No  187.960000  3089.97    Male           2.0   \n",
      "1     10.0            Yes  168.251459  3365.10    Male           3.0   \n",
      "2     10.0            Yes  168.251459  3365.10    Male           3.0   \n",
      "3      3.0            Yes  160.020000  2336.88  Female           2.0   \n",
      "4      3.0            Yes  168.251459  2879.74    Male           2.0   \n",
      "...    ...            ...         ...      ...     ...           ...   \n",
      "1599  34.0            Yes  165.100000  2405.66    Male           3.0   \n",
      "1600   1.0             No  154.940000  2338.64  Female           3.0   \n",
      "1601  77.0            Yes  166.370000  1742.52  Female           3.0   \n",
      "1602   7.0            Yes  162.560000  2380.97  Female           3.0   \n",
      "1603   7.0            Yes  154.940000  1516.76  Female           3.0   \n",
      "\n",
      "     Abnormal Flag  \n",
      "0              NaN  \n",
      "1              NaN  \n",
      "2              NaN  \n",
      "3              NaN  \n",
      "4                N  \n",
      "...            ...  \n",
      "1599             N  \n",
      "1600             H  \n",
      "1601             N  \n",
      "1602             N  \n",
      "1603             L  \n",
      "\n",
      "[1604 rows x 11 columns]\n"
     ]
    }
   ],
   "source": [
    "import numpy as np\n",
    "def height_to_inches(height):\n",
    "    if pd.isna(height):\n",
    "        return np.nan\n",
    "    feet, inches = height.split(\"' \")\n",
    "    return (int(feet) * 12 + float(inches))*2.54\n",
    "df2=df.copy()\n",
    "df2['HEIGHT'] = df2['HEIGHT'].apply(height_to_inches)\n",
    "\n",
    "# 计算平均身高（排除 NaN 值）\n",
    "mean_height = df2['HEIGHT'].mean()\n",
    "print(mean_height)\n",
    "# 用平均值填充 HEIGHT 列中的 NaN 值\n",
    "df2['HEIGHT'].fillna(mean_height, inplace=True)\n",
    "\n",
    "print(df2)"
   ]
  },
  {
   "cell_type": "code",
   "execution_count": 59,
   "id": "6337c3e8",
   "metadata": {},
   "outputs": [
    {
     "name": "stdout",
     "output_type": "stream",
     "text": [
      "                LOG_ID            PAT_ID               MRN  Cardiovascular  \\\n",
      "0     d754f06a7d973a26  837532f458d9c660  0b8de903ea63082a             0.0   \n",
      "1     5a95970d5c8fc355  fd18a41f136ed278  0a8b72c1cec4ae47             0.0   \n",
      "2     138d44a06cf4b57f  fd18a41f136ed278  0a8b72c1cec4ae47             0.0   \n",
      "3     82372dc4703ea1b0  648781c95d863ec6  e0cb9244fedd1ac7             0.0   \n",
      "4     4b6aabaf62e85c0a  d1d7b9ddc4962cdf  3918b79e03cefe27             0.0   \n",
      "...                ...               ...               ...             ...   \n",
      "1599  8116aa4a100ceee8  478a3cd8857cc055  72accda5075f7a39             1.0   \n",
      "1600  3c146c502e1e249d  fa6ec9ad3f5f1466  2408210232a3e06b             0.0   \n",
      "1601  cecd35a626c55d0c  b9878cd048a80cb3  5b9cf2e5349171e8             1.0   \n",
      "1602  3333ade5695c0b55  2f091eb1b00105d4  c280ccc5e979b4ef             0.0   \n",
      "1603  c34b85c0cf941d8a  b5838d1cdf37c09c  d7946ede59551209             1.0   \n",
      "\n",
      "       LOS  ICU_ADMIN_FLAG      HEIGHT   WEIGHT     SEX  ASA_RATING_C  \\\n",
      "0      1.0               0  187.960000  3089.97    Male           2.0   \n",
      "1     10.0               1  168.251459  3365.10    Male           3.0   \n",
      "2     10.0               1  168.251459  3365.10    Male           3.0   \n",
      "3      3.0               1  160.020000  2336.88  Female           2.0   \n",
      "4      3.0               1  168.251459  2879.74    Male           2.0   \n",
      "...    ...             ...         ...      ...     ...           ...   \n",
      "1599  34.0               1  165.100000  2405.66    Male           3.0   \n",
      "1600   1.0               0  154.940000  2338.64  Female           3.0   \n",
      "1601  77.0               1  166.370000  1742.52  Female           3.0   \n",
      "1602   7.0               1  162.560000  2380.97  Female           3.0   \n",
      "1603   7.0               1  154.940000  1516.76  Female           3.0   \n",
      "\n",
      "     Abnormal Flag  \n",
      "0              NaN  \n",
      "1              NaN  \n",
      "2              NaN  \n",
      "3              NaN  \n",
      "4                N  \n",
      "...            ...  \n",
      "1599             N  \n",
      "1600             H  \n",
      "1601             N  \n",
      "1602             N  \n",
      "1603             L  \n",
      "\n",
      "[1604 rows x 11 columns]\n"
     ]
    }
   ],
   "source": [
    "df2['ICU_ADMIN_FLAG'] = df2['ICU_ADMIN_FLAG'].replace({'Yes': 1, 'No': 0})\n",
    "print(df2)"
   ]
  },
  {
   "cell_type": "code",
   "execution_count": null,
   "id": "c1805090",
   "metadata": {},
   "outputs": [],
   "source": []
  },
  {
   "cell_type": "code",
   "execution_count": null,
   "id": "caa2395e",
   "metadata": {},
   "outputs": [],
   "source": []
  },
  {
   "cell_type": "code",
   "execution_count": 61,
   "id": "20ceab3d",
   "metadata": {},
   "outputs": [
    {
     "name": "stdout",
     "output_type": "stream",
     "text": [
      "                LOG_ID            PAT_ID               MRN  Cardiovascular  \\\n",
      "0     d754f06a7d973a26  837532f458d9c660  0b8de903ea63082a             0.0   \n",
      "1     5a95970d5c8fc355  fd18a41f136ed278  0a8b72c1cec4ae47             0.0   \n",
      "2     138d44a06cf4b57f  fd18a41f136ed278  0a8b72c1cec4ae47             0.0   \n",
      "3     82372dc4703ea1b0  648781c95d863ec6  e0cb9244fedd1ac7             0.0   \n",
      "4     4b6aabaf62e85c0a  d1d7b9ddc4962cdf  3918b79e03cefe27             0.0   \n",
      "...                ...               ...               ...             ...   \n",
      "1599  8116aa4a100ceee8  478a3cd8857cc055  72accda5075f7a39             1.0   \n",
      "1600  3c146c502e1e249d  fa6ec9ad3f5f1466  2408210232a3e06b             0.0   \n",
      "1601  cecd35a626c55d0c  b9878cd048a80cb3  5b9cf2e5349171e8             1.0   \n",
      "1602  3333ade5695c0b55  2f091eb1b00105d4  c280ccc5e979b4ef             0.0   \n",
      "1603  c34b85c0cf941d8a  b5838d1cdf37c09c  d7946ede59551209             1.0   \n",
      "\n",
      "       LOS  ICU_ADMIN_FLAG      HEIGHT   WEIGHT  SEX  ASA_RATING_C  \\\n",
      "0      1.0               0  187.960000  3089.97    1           2.0   \n",
      "1     10.0               1  168.251459  3365.10    1           3.0   \n",
      "2     10.0               1  168.251459  3365.10    1           3.0   \n",
      "3      3.0               1  160.020000  2336.88    0           2.0   \n",
      "4      3.0               1  168.251459  2879.74    1           2.0   \n",
      "...    ...             ...         ...      ...  ...           ...   \n",
      "1599  34.0               1  165.100000  2405.66    1           3.0   \n",
      "1600   1.0               0  154.940000  2338.64    0           3.0   \n",
      "1601  77.0               1  166.370000  1742.52    0           3.0   \n",
      "1602   7.0               1  162.560000  2380.97    0           3.0   \n",
      "1603   7.0               1  154.940000  1516.76    0           3.0   \n",
      "\n",
      "     Abnormal Flag  \n",
      "0              NaN  \n",
      "1              NaN  \n",
      "2              NaN  \n",
      "3              NaN  \n",
      "4                N  \n",
      "...            ...  \n",
      "1599             N  \n",
      "1600             H  \n",
      "1601             N  \n",
      "1602             N  \n",
      "1603             L  \n",
      "\n",
      "[1604 rows x 11 columns]\n"
     ]
    }
   ],
   "source": [
    "df2['SEX'] = df2['SEX'].replace({\"Female\": 0, \"Male\": 1})\n",
    "print(df2)"
   ]
  },
  {
   "cell_type": "code",
   "execution_count": 63,
   "id": "05e00368",
   "metadata": {},
   "outputs": [
    {
     "name": "stdout",
     "output_type": "stream",
     "text": [
      "                LOG_ID            PAT_ID               MRN  Cardiovascular  \\\n",
      "0     d754f06a7d973a26  837532f458d9c660  0b8de903ea63082a             0.0   \n",
      "1     5a95970d5c8fc355  fd18a41f136ed278  0a8b72c1cec4ae47             0.0   \n",
      "2     138d44a06cf4b57f  fd18a41f136ed278  0a8b72c1cec4ae47             0.0   \n",
      "3     82372dc4703ea1b0  648781c95d863ec6  e0cb9244fedd1ac7             0.0   \n",
      "4     4b6aabaf62e85c0a  d1d7b9ddc4962cdf  3918b79e03cefe27             0.0   \n",
      "...                ...               ...               ...             ...   \n",
      "1599  8116aa4a100ceee8  478a3cd8857cc055  72accda5075f7a39             1.0   \n",
      "1600  3c146c502e1e249d  fa6ec9ad3f5f1466  2408210232a3e06b             0.0   \n",
      "1601  cecd35a626c55d0c  b9878cd048a80cb3  5b9cf2e5349171e8             1.0   \n",
      "1602  3333ade5695c0b55  2f091eb1b00105d4  c280ccc5e979b4ef             0.0   \n",
      "1603  c34b85c0cf941d8a  b5838d1cdf37c09c  d7946ede59551209             1.0   \n",
      "\n",
      "       LOS  ICU_ADMIN_FLAG      HEIGHT   WEIGHT  SEX  ASA_RATING_C  \\\n",
      "0      1.0               0  187.960000  3089.97    1           2.0   \n",
      "1     10.0               1  168.251459  3365.10    1           3.0   \n",
      "2     10.0               1  168.251459  3365.10    1           3.0   \n",
      "3      3.0               1  160.020000  2336.88    0           2.0   \n",
      "4      3.0               1  168.251459  2879.74    1           2.0   \n",
      "...    ...             ...         ...      ...  ...           ...   \n",
      "1599  34.0               1  165.100000  2405.66    1           3.0   \n",
      "1600   1.0               0  154.940000  2338.64    0           3.0   \n",
      "1601  77.0               1  166.370000  1742.52    0           3.0   \n",
      "1602   7.0               1  162.560000  2380.97    0           3.0   \n",
      "1603   7.0               1  154.940000  1516.76    0           3.0   \n",
      "\n",
      "      Abnormal Flag  \n",
      "0          0.355511  \n",
      "1          0.355511  \n",
      "2          0.355511  \n",
      "3          0.355511  \n",
      "4          0.000000  \n",
      "...             ...  \n",
      "1599       0.000000  \n",
      "1600       2.000000  \n",
      "1601       0.000000  \n",
      "1602       0.000000  \n",
      "1603       1.000000  \n",
      "\n",
      "[1604 rows x 11 columns]\n"
     ]
    }
   ],
   "source": [
    "abnormal_flag_mapping = {\n",
    "    'N': 0,\n",
    "    'L': 1,\n",
    "    'H': 2,\n",
    "    'LL': 3,\n",
    "    'HH': 4\n",
    "}\n",
    "\n",
    "# 替换 Abnormal Flag 列中的值\n",
    "df2['Abnormal Flag'] = df2['Abnormal Flag'].replace(abnormal_flag_mapping)\n",
    "\n",
    "# 计算 Abnormal Flag 列的平均值（排除 NaN 值）\n",
    "mean_abnormal_flag = df2['Abnormal Flag'].mean()\n",
    "\n",
    "# 用平均值填充 Abnormal Flag 列中的 NaN 值\n",
    "df2['Abnormal Flag'].fillna(mean_abnormal_flag, inplace=True)\n",
    "\n",
    "print(df2)"
   ]
  },
  {
   "cell_type": "code",
   "execution_count": 71,
   "id": "29eea0b4",
   "metadata": {},
   "outputs": [
    {
     "name": "stdout",
     "output_type": "stream",
     "text": [
      "      Cardiovascular   LOS  ICU_ADMIN_FLAG  ICU_ADMIN_FLAG      HEIGHT  SEX  \\\n",
      "0                0.0   1.0               0               0  187.960000    1   \n",
      "1                0.0  10.0               1               1  168.251459    1   \n",
      "2                0.0  10.0               1               1  168.251459    1   \n",
      "3                0.0   3.0               1               1  160.020000    0   \n",
      "4                0.0   3.0               1               1  168.251459    1   \n",
      "...              ...   ...             ...             ...         ...  ...   \n",
      "1599             1.0  34.0               1               1  165.100000    1   \n",
      "1600             0.0   1.0               0               0  154.940000    0   \n",
      "1601             1.0  77.0               1               1  166.370000    0   \n",
      "1602             0.0   7.0               1               1  162.560000    0   \n",
      "1603             1.0   7.0               1               1  154.940000    0   \n",
      "\n",
      "      ASA_RATING_C  Abnormal Flag  \n",
      "0              2.0       0.355511  \n",
      "1              3.0       0.355511  \n",
      "2              3.0       0.355511  \n",
      "3              2.0       0.355511  \n",
      "4              2.0       0.000000  \n",
      "...            ...            ...  \n",
      "1599           3.0       0.000000  \n",
      "1600           3.0       2.000000  \n",
      "1601           3.0       0.000000  \n",
      "1602           3.0       0.000000  \n",
      "1603           3.0       1.000000  \n",
      "\n",
      "[1604 rows x 8 columns]\n"
     ]
    }
   ],
   "source": [
    "df_selected=df2[['Cardiovascular','LOS','ICU_ADMIN_FLAG','ICU_ADMIN_FLAG','HEIGHT','SEX','ASA_RATING_C','Abnormal Flag']]\n",
    "df_selected = df_selected.apply(lambda x: x.fillna(x.mean()) if x.dtype.kind in 'biufc' else x)\n",
    "\n",
    "print(df_selected)"
   ]
  },
  {
   "cell_type": "code",
   "execution_count": 72,
   "id": "cab061e3",
   "metadata": {},
   "outputs": [
    {
     "name": "stdout",
     "output_type": "stream",
     "text": [
      "              precision    recall  f1-score   support\n",
      "\n",
      "         0.0       0.83      0.97      0.89       245\n",
      "         1.0       0.78      0.37      0.50        76\n",
      "\n",
      "    accuracy                           0.83       321\n",
      "   macro avg       0.80      0.67      0.70       321\n",
      "weighted avg       0.82      0.83      0.80       321\n",
      "\n",
      "Accuracy: 0.8255451713395638\n"
     ]
    }
   ],
   "source": [
    "import pandas as pd\n",
    "from sklearn.model_selection import train_test_split\n",
    "from sklearn.svm import SVC\n",
    "from sklearn.metrics import classification_report, accuracy_score\n",
    "X = df_selected.drop(columns=['Cardiovascular'])\n",
    "y = df_selected['Cardiovascular']\n",
    "X_train, X_test, y_train, y_test = train_test_split(X, y, test_size=0.2, random_state=42)\n",
    "svm_model = SVC()\n",
    "svm_model.fit(X_train, y_train)\n",
    "y_pred = svm_model.predict(X_test)\n",
    "print(classification_report(y_test, y_pred))\n",
    "print(f\"Accuracy: {accuracy_score(y_test, y_pred)}\")"
   ]
  },
  {
   "cell_type": "code",
   "execution_count": 73,
   "id": "3a9eaebf",
   "metadata": {},
   "outputs": [
    {
     "name": "stdout",
     "output_type": "stream",
     "text": [
      "              precision    recall  f1-score   support\n",
      "\n",
      "         0.0       0.76      1.00      0.87       245\n",
      "         1.0       0.00      0.00      0.00        76\n",
      "\n",
      "    accuracy                           0.76       321\n",
      "   macro avg       0.38      0.50      0.43       321\n",
      "weighted avg       0.58      0.76      0.66       321\n",
      "\n",
      "Accuracy: 0.7632398753894081\n"
     ]
    },
    {
     "name": "stderr",
     "output_type": "stream",
     "text": [
      "C:\\ProgramData\\anaconda3\\lib\\site-packages\\sklearn\\metrics\\_classification.py:1344: UndefinedMetricWarning: Precision and F-score are ill-defined and being set to 0.0 in labels with no predicted samples. Use `zero_division` parameter to control this behavior.\n",
      "  _warn_prf(average, modifier, msg_start, len(result))\n",
      "C:\\ProgramData\\anaconda3\\lib\\site-packages\\sklearn\\metrics\\_classification.py:1344: UndefinedMetricWarning: Precision and F-score are ill-defined and being set to 0.0 in labels with no predicted samples. Use `zero_division` parameter to control this behavior.\n",
      "  _warn_prf(average, modifier, msg_start, len(result))\n",
      "C:\\ProgramData\\anaconda3\\lib\\site-packages\\sklearn\\metrics\\_classification.py:1344: UndefinedMetricWarning: Precision and F-score are ill-defined and being set to 0.0 in labels with no predicted samples. Use `zero_division` parameter to control this behavior.\n",
      "  _warn_prf(average, modifier, msg_start, len(result))\n"
     ]
    }
   ],
   "source": [
    "import pandas as pd\n",
    "from sklearn.model_selection import train_test_split\n",
    "from sklearn.dummy import DummyClassifier\n",
    "from sklearn.metrics import classification_report, accuracy_score\n",
    "X = df_selected.drop(columns=['Cardiovascular'])\n",
    "y = df_selected['Cardiovascular']\n",
    "\n",
    "X_train, X_test, y_train, y_test = train_test_split(X, y, test_size=0.2, random_state=42)\n",
    "\n",
    "\n",
    "zero_rule_model = DummyClassifier(strategy=\"most_frequent\")\n",
    "\n",
    "\n",
    "zero_rule_model.fit(X_train, y_train)\n",
    "\n",
    "\n",
    "y_pred = zero_rule_model.predict(X_test)\n",
    "\n",
    "\n",
    "print(classification_report(y_test, y_pred))\n",
    "print(f\"Accuracy: {accuracy_score(y_test, y_pred)}\")"
   ]
  },
  {
   "cell_type": "code",
   "execution_count": 74,
   "id": "f34b4068",
   "metadata": {},
   "outputs": [
    {
     "name": "stdout",
     "output_type": "stream",
     "text": [
      "              precision    recall  f1-score   support\n",
      "\n",
      "         0.0       0.84      0.94      0.89       245\n",
      "         1.0       0.69      0.43      0.53        76\n",
      "\n",
      "    accuracy                           0.82       321\n",
      "   macro avg       0.76      0.69      0.71       321\n",
      "weighted avg       0.81      0.82      0.80       321\n",
      "\n",
      "Accuracy: 0.8193146417445483\n"
     ]
    }
   ],
   "source": [
    "import pandas as pd\n",
    "from sklearn.model_selection import train_test_split\n",
    "from sklearn.linear_model import LogisticRegression\n",
    "from sklearn.metrics import classification_report, accuracy_score\n",
    "X = df_selected.drop(columns=['Cardiovascular'])\n",
    "y = df_selected['Cardiovascular']\n",
    "\n",
    "X_train, X_test, y_train, y_test = train_test_split(X, y, test_size=0.2, random_state=42)\n",
    "\n",
    "\n",
    "logistic_regression_model = LogisticRegression(max_iter=1000)\n",
    "\n",
    "\n",
    "logistic_regression_model.fit(X_train, y_train)\n",
    "\n",
    "\n",
    "y_pred = logistic_regression_model.predict(X_test)\n",
    "\n",
    "\n",
    "print(classification_report(y_test, y_pred))\n",
    "print(f\"Accuracy: {accuracy_score(y_test, y_pred)}\")"
   ]
  },
  {
   "cell_type": "code",
   "execution_count": 75,
   "id": "ec5f4d07",
   "metadata": {},
   "outputs": [
    {
     "name": "stdout",
     "output_type": "stream",
     "text": [
      "              precision    recall  f1-score   support\n",
      "\n",
      "         0.0       0.89      0.94      0.91       245\n",
      "         1.0       0.76      0.63      0.69        76\n",
      "\n",
      "    accuracy                           0.87       321\n",
      "   macro avg       0.83      0.79      0.80       321\n",
      "weighted avg       0.86      0.87      0.86       321\n",
      "\n",
      "Accuracy: 0.8660436137071651\n"
     ]
    }
   ],
   "source": [
    "import pandas as pd\n",
    "from sklearn.model_selection import train_test_split\n",
    "from sklearn.preprocessing import StandardScaler\n",
    "from sklearn.neural_network import MLPClassifier\n",
    "from sklearn.metrics import classification_report, accuracy_score\n",
    "X = df_selected.drop(columns=['Cardiovascular'])\n",
    "y = df_selected['Cardiovascular']\n",
    "\n",
    "X_train, X_test, y_train, y_test = train_test_split(X, y, test_size=0.2, random_state=42)\n",
    "\n",
    "\n",
    "scaler = StandardScaler()\n",
    "X_train = scaler.fit_transform(X_train)\n",
    "X_test = scaler.transform(X_test)\n",
    "\n",
    "\n",
    "nn_model = MLPClassifier(hidden_layer_sizes=(100,), max_iter=1000)\n",
    "\n",
    "\n",
    "nn_model.fit(X_train, y_train)\n",
    "\n",
    "\n",
    "y_pred = nn_model.predict(X_test)\n",
    "\n",
    "\n",
    "print(classification_report(y_test, y_pred))\n",
    "print(f\"Accuracy: {accuracy_score(y_test, y_pred)}\")"
   ]
  },
  {
   "cell_type": "code",
   "execution_count": 76,
   "id": "2b4f4f0c",
   "metadata": {},
   "outputs": [],
   "source": [
    "df2.to_csv('SML2.csv', index=False)"
   ]
  },
  {
   "cell_type": "code",
   "execution_count": null,
   "id": "f55b7eca",
   "metadata": {},
   "outputs": [],
   "source": []
  }
 ],
 "metadata": {
  "kernelspec": {
   "display_name": "Python 3 (ipykernel)",
   "language": "python",
   "name": "python3"
  },
  "language_info": {
   "codemirror_mode": {
    "name": "ipython",
    "version": 3
   },
   "file_extension": ".py",
   "mimetype": "text/x-python",
   "name": "python",
   "nbconvert_exporter": "python",
   "pygments_lexer": "ipython3",
   "version": "3.10.9"
  }
 },
 "nbformat": 4,
 "nbformat_minor": 5
}
