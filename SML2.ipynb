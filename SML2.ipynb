{
 "cells": [
  {
   "cell_type": "code",
   "execution_count": 10,
   "id": "28dad01b",
   "metadata": {},
   "outputs": [
    {
     "name": "stdout",
     "output_type": "stream",
     "text": [
      "      Unnamed: 0            LOG_ID            PAT_ID               MRN  \\\n",
      "0              0  4b6aabaf62e85c0a  d1d7b9ddc4962cdf  3918b79e03cefe27   \n",
      "1              1  4b6aabaf62e85c0a  d1d7b9ddc4962cdf  3918b79e03cefe27   \n",
      "2              2  4b6aabaf62e85c0a  d1d7b9ddc4962cdf  3918b79e03cefe27   \n",
      "3              3  32f1980e3944170e  8d29d99bae6382be  0dcace1cd2a4d89d   \n",
      "4              4  32f1980e3944170e  8d29d99bae6382be  0dcace1cd2a4d89d   \n",
      "...          ...               ...               ...               ...   \n",
      "4244        4244  c34b85c0cf941d8a  b5838d1cdf37c09c  d7946ede59551209   \n",
      "4245        4245  c34b85c0cf941d8a  b5838d1cdf37c09c  d7946ede59551209   \n",
      "4246        4246  c34b85c0cf941d8a  b5838d1cdf37c09c  d7946ede59551209   \n",
      "4247        4247  c34b85c0cf941d8a  b5838d1cdf37c09c  d7946ede59551209   \n",
      "4248        4248  c34b85c0cf941d8a  b5838d1cdf37c09c  d7946ede59551209   \n",
      "\n",
      "      Cardiovascular  LOS ICU_ADMIN_FLAG HEIGHT   WEIGHT     SEX  \\\n",
      "0                0.0  3.0            Yes    NaN  2879.74    Male   \n",
      "1                0.0  3.0            Yes    NaN  2879.74    Male   \n",
      "2                0.0  3.0            Yes    NaN  2879.74    Male   \n",
      "3                0.0  1.0             No    NaN  1968.27    Male   \n",
      "4                0.0  1.0             No    NaN  1968.27    Male   \n",
      "...              ...  ...            ...    ...      ...     ...   \n",
      "4244             1.0  7.0            Yes   5' 1  1516.76  Female   \n",
      "4245             1.0  7.0            Yes   5' 1  1516.76  Female   \n",
      "4246             1.0  7.0            Yes   5' 1  1516.76  Female   \n",
      "4247             1.0  7.0            Yes   5' 1  1516.76  Female   \n",
      "4248             1.0  7.0            Yes   5' 1  1516.76  Female   \n",
      "\n",
      "      ASA_RATING_C Abnormal Flag  \n",
      "0              2.0             N  \n",
      "1              2.0             L  \n",
      "2              2.0             H  \n",
      "3              3.0             N  \n",
      "4              3.0             L  \n",
      "...            ...           ...  \n",
      "4244           3.0             L  \n",
      "4245           3.0             N  \n",
      "4246           3.0            LL  \n",
      "4247           3.0             H  \n",
      "4248           3.0           NaN  \n",
      "\n",
      "[4249 rows x 12 columns]\n"
     ]
    }
   ],
   "source": [
    "import pandas as pd\n",
    "df = pd.read_csv('SML2.csv')\n",
    "print(df)"
   ]
  },
  {
   "cell_type": "code",
   "execution_count": 11,
   "id": "e84e0f5f",
   "metadata": {},
   "outputs": [
    {
     "name": "stdout",
     "output_type": "stream",
     "text": [
      "                LOG_ID            PAT_ID               MRN  Cardiovascular  \\\n",
      "0     4b6aabaf62e85c0a  d1d7b9ddc4962cdf  3918b79e03cefe27             0.0   \n",
      "1     4b6aabaf62e85c0a  d1d7b9ddc4962cdf  3918b79e03cefe27             0.0   \n",
      "2     4b6aabaf62e85c0a  d1d7b9ddc4962cdf  3918b79e03cefe27             0.0   \n",
      "3     32f1980e3944170e  8d29d99bae6382be  0dcace1cd2a4d89d             0.0   \n",
      "4     32f1980e3944170e  8d29d99bae6382be  0dcace1cd2a4d89d             0.0   \n",
      "...                ...               ...               ...             ...   \n",
      "4244  c34b85c0cf941d8a  b5838d1cdf37c09c  d7946ede59551209             1.0   \n",
      "4245  c34b85c0cf941d8a  b5838d1cdf37c09c  d7946ede59551209             1.0   \n",
      "4246  c34b85c0cf941d8a  b5838d1cdf37c09c  d7946ede59551209             1.0   \n",
      "4247  c34b85c0cf941d8a  b5838d1cdf37c09c  d7946ede59551209             1.0   \n",
      "4248  c34b85c0cf941d8a  b5838d1cdf37c09c  d7946ede59551209             1.0   \n",
      "\n",
      "      LOS ICU_ADMIN_FLAG HEIGHT   WEIGHT     SEX  ASA_RATING_C Abnormal Flag  \n",
      "0     3.0            Yes    NaN  2879.74    Male           2.0             N  \n",
      "1     3.0            Yes    NaN  2879.74    Male           2.0             L  \n",
      "2     3.0            Yes    NaN  2879.74    Male           2.0             H  \n",
      "3     1.0             No    NaN  1968.27    Male           3.0             N  \n",
      "4     1.0             No    NaN  1968.27    Male           3.0             L  \n",
      "...   ...            ...    ...      ...     ...           ...           ...  \n",
      "4244  7.0            Yes   5' 1  1516.76  Female           3.0             L  \n",
      "4245  7.0            Yes   5' 1  1516.76  Female           3.0             N  \n",
      "4246  7.0            Yes   5' 1  1516.76  Female           3.0            LL  \n",
      "4247  7.0            Yes   5' 1  1516.76  Female           3.0             H  \n",
      "4248  7.0            Yes   5' 1  1516.76  Female           3.0           NaN  \n",
      "\n",
      "[4249 rows x 11 columns]\n"
     ]
    }
   ],
   "source": [
    "df = df.drop(columns=['Unnamed: 0'])\n",
    "print(df)"
   ]
  },
  {
   "cell_type": "code",
   "execution_count": 12,
   "id": "c1dec1d8",
   "metadata": {},
   "outputs": [
    {
     "name": "stdout",
     "output_type": "stream",
     "text": [
      "                LOG_ID            PAT_ID               MRN  Cardiovascular  \\\n",
      "6     a3314ba15a6ff443  d2d5e2e446ec4a6d  14b535c44e9acb8a             0.0   \n",
      "7     b6e09ea688733f3d  cc58cb1cdc386220  8611b26f315ff0b5             0.0   \n",
      "8     b6e09ea688733f3d  cc58cb1cdc386220  8611b26f315ff0b5             0.0   \n",
      "9     3a170da25a9cfdb4  947a941abad2ec57  a423a3fa047d61a1             0.0   \n",
      "10    3a170da25a9cfdb4  947a941abad2ec57  a423a3fa047d61a1             0.0   \n",
      "...                ...               ...               ...             ...   \n",
      "4242  3333ade5695c0b55  2f091eb1b00105d4  c280ccc5e979b4ef             0.0   \n",
      "4244  c34b85c0cf941d8a  b5838d1cdf37c09c  d7946ede59551209             1.0   \n",
      "4245  c34b85c0cf941d8a  b5838d1cdf37c09c  d7946ede59551209             1.0   \n",
      "4246  c34b85c0cf941d8a  b5838d1cdf37c09c  d7946ede59551209             1.0   \n",
      "4247  c34b85c0cf941d8a  b5838d1cdf37c09c  d7946ede59551209             1.0   \n",
      "\n",
      "      LOS ICU_ADMIN_FLAG HEIGHT   WEIGHT     SEX  ASA_RATING_C Abnormal Flag  \n",
      "6     3.0            Yes   5' 2  1634.93  Female           2.0             N  \n",
      "7     2.0            Yes   5' 2  2225.76  Female           2.0             N  \n",
      "8     2.0            Yes   5' 2  2225.76  Female           2.0             L  \n",
      "9     3.0            Yes   5' 7  2820.12  Female           2.0             L  \n",
      "10    3.0            Yes   5' 7  2820.12  Female           2.0             N  \n",
      "...   ...            ...    ...      ...     ...           ...           ...  \n",
      "4242  7.0            Yes   5' 4  2380.97  Female           3.0             H  \n",
      "4244  7.0            Yes   5' 1  1516.76  Female           3.0             L  \n",
      "4245  7.0            Yes   5' 1  1516.76  Female           3.0             N  \n",
      "4246  7.0            Yes   5' 1  1516.76  Female           3.0            LL  \n",
      "4247  7.0            Yes   5' 1  1516.76  Female           3.0             H  \n",
      "\n",
      "[2950 rows x 11 columns]\n"
     ]
    }
   ],
   "source": [
    "df = df.dropna()\n",
    "print(df)"
   ]
  },
  {
   "cell_type": "code",
   "execution_count": 15,
   "id": "6337c3e8",
   "metadata": {},
   "outputs": [
    {
     "name": "stdout",
     "output_type": "stream",
     "text": [
      "                LOG_ID            PAT_ID               MRN  Cardiovascular  \\\n",
      "6     a3314ba15a6ff443  d2d5e2e446ec4a6d  14b535c44e9acb8a             0.0   \n",
      "7     b6e09ea688733f3d  cc58cb1cdc386220  8611b26f315ff0b5             0.0   \n",
      "8     b6e09ea688733f3d  cc58cb1cdc386220  8611b26f315ff0b5             0.0   \n",
      "9     3a170da25a9cfdb4  947a941abad2ec57  a423a3fa047d61a1             0.0   \n",
      "10    3a170da25a9cfdb4  947a941abad2ec57  a423a3fa047d61a1             0.0   \n",
      "...                ...               ...               ...             ...   \n",
      "4242  3333ade5695c0b55  2f091eb1b00105d4  c280ccc5e979b4ef             0.0   \n",
      "4244  c34b85c0cf941d8a  b5838d1cdf37c09c  d7946ede59551209             1.0   \n",
      "4245  c34b85c0cf941d8a  b5838d1cdf37c09c  d7946ede59551209             1.0   \n",
      "4246  c34b85c0cf941d8a  b5838d1cdf37c09c  d7946ede59551209             1.0   \n",
      "4247  c34b85c0cf941d8a  b5838d1cdf37c09c  d7946ede59551209             1.0   \n",
      "\n",
      "      LOS  ICU_ADMIN_FLAG HEIGHT   WEIGHT     SEX  ASA_RATING_C Abnormal Flag  \n",
      "6     3.0               1   5' 2  1634.93  Female           2.0             N  \n",
      "7     2.0               1   5' 2  2225.76  Female           2.0             N  \n",
      "8     2.0               1   5' 2  2225.76  Female           2.0             L  \n",
      "9     3.0               1   5' 7  2820.12  Female           2.0             L  \n",
      "10    3.0               1   5' 7  2820.12  Female           2.0             N  \n",
      "...   ...             ...    ...      ...     ...           ...           ...  \n",
      "4242  7.0               1   5' 4  2380.97  Female           3.0             H  \n",
      "4244  7.0               1   5' 1  1516.76  Female           3.0             L  \n",
      "4245  7.0               1   5' 1  1516.76  Female           3.0             N  \n",
      "4246  7.0               1   5' 1  1516.76  Female           3.0            LL  \n",
      "4247  7.0               1   5' 1  1516.76  Female           3.0             H  \n",
      "\n",
      "[2950 rows x 11 columns]\n"
     ]
    }
   ],
   "source": [
    "df['ICU_ADMIN_FLAG'] = df['ICU_ADMIN_FLAG'].replace({'Yes': 1, 'No': 0})\n",
    "print(df)"
   ]
  },
  {
   "cell_type": "code",
   "execution_count": 17,
   "id": "c1805090",
   "metadata": {},
   "outputs": [
    {
     "name": "stdout",
     "output_type": "stream",
     "text": [
      "                LOG_ID            PAT_ID               MRN  Cardiovascular  \\\n",
      "6     a3314ba15a6ff443  d2d5e2e446ec4a6d  14b535c44e9acb8a             0.0   \n",
      "7     b6e09ea688733f3d  cc58cb1cdc386220  8611b26f315ff0b5             0.0   \n",
      "8     b6e09ea688733f3d  cc58cb1cdc386220  8611b26f315ff0b5             0.0   \n",
      "9     3a170da25a9cfdb4  947a941abad2ec57  a423a3fa047d61a1             0.0   \n",
      "10    3a170da25a9cfdb4  947a941abad2ec57  a423a3fa047d61a1             0.0   \n",
      "...                ...               ...               ...             ...   \n",
      "4242  3333ade5695c0b55  2f091eb1b00105d4  c280ccc5e979b4ef             0.0   \n",
      "4244  c34b85c0cf941d8a  b5838d1cdf37c09c  d7946ede59551209             1.0   \n",
      "4245  c34b85c0cf941d8a  b5838d1cdf37c09c  d7946ede59551209             1.0   \n",
      "4246  c34b85c0cf941d8a  b5838d1cdf37c09c  d7946ede59551209             1.0   \n",
      "4247  c34b85c0cf941d8a  b5838d1cdf37c09c  d7946ede59551209             1.0   \n",
      "\n",
      "      LOS  ICU_ADMIN_FLAG  HEIGHT   WEIGHT     SEX  ASA_RATING_C Abnormal Flag  \n",
      "6     3.0               1  157.48  1634.93  Female           2.0             N  \n",
      "7     2.0               1  157.48  2225.76  Female           2.0             N  \n",
      "8     2.0               1  157.48  2225.76  Female           2.0             L  \n",
      "9     3.0               1  170.18  2820.12  Female           2.0             L  \n",
      "10    3.0               1  170.18  2820.12  Female           2.0             N  \n",
      "...   ...             ...     ...      ...     ...           ...           ...  \n",
      "4242  7.0               1  162.56  2380.97  Female           3.0             H  \n",
      "4244  7.0               1  154.94  1516.76  Female           3.0             L  \n",
      "4245  7.0               1  154.94  1516.76  Female           3.0             N  \n",
      "4246  7.0               1  154.94  1516.76  Female           3.0            LL  \n",
      "4247  7.0               1  154.94  1516.76  Female           3.0             H  \n",
      "\n",
      "[2950 rows x 11 columns]\n"
     ]
    }
   ],
   "source": [
    "def height_to_cm(height):\n",
    "    try:\n",
    "        feet, inches = height.split(\"' \")\n",
    "        feet = int(feet)\n",
    "        inches = float(inches)  # 使用float来处理小数\n",
    "        return round(feet * 30.48 + inches * 2.54, 2)\n",
    "    except ValueError:\n",
    "        # 如果转换失败，返回NaN或其他默认值\n",
    "        return None\n",
    "\n",
    "# 应用函数到身高列\n",
    "df['HEIGHT'] = df['HEIGHT'].apply(height_to_cm)\n",
    "\n",
    "# 显示更新后的DataFrame\n",
    "print(df)"
   ]
  },
  {
   "cell_type": "code",
   "execution_count": 18,
   "id": "caa2395e",
   "metadata": {},
   "outputs": [
    {
     "name": "stdout",
     "output_type": "stream",
     "text": [
      "                LOG_ID            PAT_ID               MRN  Cardiovascular  \\\n",
      "6     a3314ba15a6ff443  d2d5e2e446ec4a6d  14b535c44e9acb8a             0.0   \n",
      "7     b6e09ea688733f3d  cc58cb1cdc386220  8611b26f315ff0b5             0.0   \n",
      "8     b6e09ea688733f3d  cc58cb1cdc386220  8611b26f315ff0b5             0.0   \n",
      "9     3a170da25a9cfdb4  947a941abad2ec57  a423a3fa047d61a1             0.0   \n",
      "10    3a170da25a9cfdb4  947a941abad2ec57  a423a3fa047d61a1             0.0   \n",
      "...                ...               ...               ...             ...   \n",
      "4242  3333ade5695c0b55  2f091eb1b00105d4  c280ccc5e979b4ef             0.0   \n",
      "4244  c34b85c0cf941d8a  b5838d1cdf37c09c  d7946ede59551209             1.0   \n",
      "4245  c34b85c0cf941d8a  b5838d1cdf37c09c  d7946ede59551209             1.0   \n",
      "4246  c34b85c0cf941d8a  b5838d1cdf37c09c  d7946ede59551209             1.0   \n",
      "4247  c34b85c0cf941d8a  b5838d1cdf37c09c  d7946ede59551209             1.0   \n",
      "\n",
      "      LOS  ICU_ADMIN_FLAG  HEIGHT   WEIGHT     SEX  ASA_RATING_C Abnormal Flag  \n",
      "6     3.0               1  157.48  1634.93  Female           2.0             N  \n",
      "7     2.0               1  157.48  2225.76  Female           2.0             N  \n",
      "8     2.0               1  157.48  2225.76  Female           2.0             L  \n",
      "9     3.0               1  170.18  2820.12  Female           2.0             L  \n",
      "10    3.0               1  170.18  2820.12  Female           2.0             N  \n",
      "...   ...             ...     ...      ...     ...           ...           ...  \n",
      "4242  7.0               1  162.56  2380.97  Female           3.0             H  \n",
      "4244  7.0               1  154.94  1516.76  Female           3.0             L  \n",
      "4245  7.0               1  154.94  1516.76  Female           3.0             N  \n",
      "4246  7.0               1  154.94  1516.76  Female           3.0            LL  \n",
      "4247  7.0               1  154.94  1516.76  Female           3.0             H  \n",
      "\n",
      "[2950 rows x 11 columns]\n"
     ]
    }
   ],
   "source": [
    "df = df.dropna()\n",
    "print(df)"
   ]
  },
  {
   "cell_type": "code",
   "execution_count": 19,
   "id": "20ceab3d",
   "metadata": {},
   "outputs": [
    {
     "name": "stdout",
     "output_type": "stream",
     "text": [
      "                LOG_ID            PAT_ID               MRN  Cardiovascular  \\\n",
      "6     a3314ba15a6ff443  d2d5e2e446ec4a6d  14b535c44e9acb8a             0.0   \n",
      "7     b6e09ea688733f3d  cc58cb1cdc386220  8611b26f315ff0b5             0.0   \n",
      "8     b6e09ea688733f3d  cc58cb1cdc386220  8611b26f315ff0b5             0.0   \n",
      "9     3a170da25a9cfdb4  947a941abad2ec57  a423a3fa047d61a1             0.0   \n",
      "10    3a170da25a9cfdb4  947a941abad2ec57  a423a3fa047d61a1             0.0   \n",
      "...                ...               ...               ...             ...   \n",
      "4242  3333ade5695c0b55  2f091eb1b00105d4  c280ccc5e979b4ef             0.0   \n",
      "4244  c34b85c0cf941d8a  b5838d1cdf37c09c  d7946ede59551209             1.0   \n",
      "4245  c34b85c0cf941d8a  b5838d1cdf37c09c  d7946ede59551209             1.0   \n",
      "4246  c34b85c0cf941d8a  b5838d1cdf37c09c  d7946ede59551209             1.0   \n",
      "4247  c34b85c0cf941d8a  b5838d1cdf37c09c  d7946ede59551209             1.0   \n",
      "\n",
      "      LOS  ICU_ADMIN_FLAG  HEIGHT   WEIGHT  SEX  ASA_RATING_C Abnormal Flag  \n",
      "6     3.0               1  157.48  1634.93    0           2.0             N  \n",
      "7     2.0               1  157.48  2225.76    0           2.0             N  \n",
      "8     2.0               1  157.48  2225.76    0           2.0             L  \n",
      "9     3.0               1  170.18  2820.12    0           2.0             L  \n",
      "10    3.0               1  170.18  2820.12    0           2.0             N  \n",
      "...   ...             ...     ...      ...  ...           ...           ...  \n",
      "4242  7.0               1  162.56  2380.97    0           3.0             H  \n",
      "4244  7.0               1  154.94  1516.76    0           3.0             L  \n",
      "4245  7.0               1  154.94  1516.76    0           3.0             N  \n",
      "4246  7.0               1  154.94  1516.76    0           3.0            LL  \n",
      "4247  7.0               1  154.94  1516.76    0           3.0             H  \n",
      "\n",
      "[2950 rows x 11 columns]\n"
     ]
    }
   ],
   "source": [
    "df['SEX'] = df['SEX'].replace({\"Female\": 0, \"Male\": 1})\n",
    "print(df)"
   ]
  },
  {
   "cell_type": "code",
   "execution_count": 20,
   "id": "05e00368",
   "metadata": {},
   "outputs": [
    {
     "name": "stdout",
     "output_type": "stream",
     "text": [
      "                LOG_ID            PAT_ID               MRN  Cardiovascular  \\\n",
      "6     a3314ba15a6ff443  d2d5e2e446ec4a6d  14b535c44e9acb8a             0.0   \n",
      "7     b6e09ea688733f3d  cc58cb1cdc386220  8611b26f315ff0b5             0.0   \n",
      "8     b6e09ea688733f3d  cc58cb1cdc386220  8611b26f315ff0b5             0.0   \n",
      "9     3a170da25a9cfdb4  947a941abad2ec57  a423a3fa047d61a1             0.0   \n",
      "10    3a170da25a9cfdb4  947a941abad2ec57  a423a3fa047d61a1             0.0   \n",
      "...                ...               ...               ...             ...   \n",
      "4242  3333ade5695c0b55  2f091eb1b00105d4  c280ccc5e979b4ef             0.0   \n",
      "4244  c34b85c0cf941d8a  b5838d1cdf37c09c  d7946ede59551209             1.0   \n",
      "4245  c34b85c0cf941d8a  b5838d1cdf37c09c  d7946ede59551209             1.0   \n",
      "4246  c34b85c0cf941d8a  b5838d1cdf37c09c  d7946ede59551209             1.0   \n",
      "4247  c34b85c0cf941d8a  b5838d1cdf37c09c  d7946ede59551209             1.0   \n",
      "\n",
      "      LOS  ICU_ADMIN_FLAG  HEIGHT   WEIGHT  SEX  ASA_RATING_C  Abnormal Flag  \n",
      "6     3.0               1  157.48  1634.93    0           2.0              0  \n",
      "7     2.0               1  157.48  2225.76    0           2.0              0  \n",
      "8     2.0               1  157.48  2225.76    0           2.0              1  \n",
      "9     3.0               1  170.18  2820.12    0           2.0              1  \n",
      "10    3.0               1  170.18  2820.12    0           2.0              0  \n",
      "...   ...             ...     ...      ...  ...           ...            ...  \n",
      "4242  7.0               1  162.56  2380.97    0           3.0              2  \n",
      "4244  7.0               1  154.94  1516.76    0           3.0              1  \n",
      "4245  7.0               1  154.94  1516.76    0           3.0              0  \n",
      "4246  7.0               1  154.94  1516.76    0           3.0              3  \n",
      "4247  7.0               1  154.94  1516.76    0           3.0              2  \n",
      "\n",
      "[2950 rows x 11 columns]\n"
     ]
    }
   ],
   "source": [
    "abnormal_flag_mapping = {\n",
    "    'N': 0,\n",
    "    'L': 1,\n",
    "    'H': 2,\n",
    "    'LL': 3,\n",
    "    'HH': 4\n",
    "}\n",
    "\n",
    "df['Abnormal Flag'] = df['Abnormal Flag'].replace(abnormal_flag_mapping)\n",
    "print(df)"
   ]
  },
  {
   "cell_type": "code",
   "execution_count": 23,
   "id": "29eea0b4",
   "metadata": {},
   "outputs": [],
   "source": [
    "df_selected=df[['Cardiovascular','LOS','ICU_ADMIN_FLAG','ICU_ADMIN_FLAG','HEIGHT','SEX','ASA_RATING_C','Abnormal Flag']]"
   ]
  },
  {
   "cell_type": "code",
   "execution_count": 25,
   "id": "cab061e3",
   "metadata": {},
   "outputs": [
    {
     "name": "stdout",
     "output_type": "stream",
     "text": [
      "              precision    recall  f1-score   support\n",
      "\n",
      "         0.0       0.69      0.92      0.79       301\n",
      "         1.0       0.87      0.56      0.68       289\n",
      "\n",
      "    accuracy                           0.75       590\n",
      "   macro avg       0.78      0.74      0.74       590\n",
      "weighted avg       0.78      0.75      0.74       590\n",
      "\n",
      "Accuracy: 0.7457627118644068\n"
     ]
    }
   ],
   "source": [
    "import pandas as pd\n",
    "from sklearn.model_selection import train_test_split\n",
    "from sklearn.svm import SVC\n",
    "from sklearn.metrics import classification_report, accuracy_score\n",
    "X = df_selected.drop(columns=['Cardiovascular'])\n",
    "y = df_selected['Cardiovascular']\n",
    "X_train, X_test, y_train, y_test = train_test_split(X, y, test_size=0.2, random_state=42)\n",
    "svm_model = SVC()\n",
    "svm_model.fit(X_train, y_train)\n",
    "y_pred = svm_model.predict(X_test)\n",
    "print(classification_report(y_test, y_pred))\n",
    "print(f\"Accuracy: {accuracy_score(y_test, y_pred)}\")"
   ]
  },
  {
   "cell_type": "code",
   "execution_count": 27,
   "id": "3a9eaebf",
   "metadata": {},
   "outputs": [
    {
     "name": "stdout",
     "output_type": "stream",
     "text": [
      "              precision    recall  f1-score   support\n",
      "\n",
      "         0.0       0.51      1.00      0.68       301\n",
      "         1.0       0.00      0.00      0.00       289\n",
      "\n",
      "    accuracy                           0.51       590\n",
      "   macro avg       0.26      0.50      0.34       590\n",
      "weighted avg       0.26      0.51      0.34       590\n",
      "\n",
      "Accuracy: 0.5101694915254237\n"
     ]
    },
    {
     "name": "stderr",
     "output_type": "stream",
     "text": [
      "C:\\ProgramData\\anaconda3\\lib\\site-packages\\sklearn\\metrics\\_classification.py:1344: UndefinedMetricWarning: Precision and F-score are ill-defined and being set to 0.0 in labels with no predicted samples. Use `zero_division` parameter to control this behavior.\n",
      "  _warn_prf(average, modifier, msg_start, len(result))\n",
      "C:\\ProgramData\\anaconda3\\lib\\site-packages\\sklearn\\metrics\\_classification.py:1344: UndefinedMetricWarning: Precision and F-score are ill-defined and being set to 0.0 in labels with no predicted samples. Use `zero_division` parameter to control this behavior.\n",
      "  _warn_prf(average, modifier, msg_start, len(result))\n",
      "C:\\ProgramData\\anaconda3\\lib\\site-packages\\sklearn\\metrics\\_classification.py:1344: UndefinedMetricWarning: Precision and F-score are ill-defined and being set to 0.0 in labels with no predicted samples. Use `zero_division` parameter to control this behavior.\n",
      "  _warn_prf(average, modifier, msg_start, len(result))\n"
     ]
    }
   ],
   "source": [
    "import pandas as pd\n",
    "from sklearn.model_selection import train_test_split\n",
    "from sklearn.dummy import DummyClassifier\n",
    "from sklearn.metrics import classification_report, accuracy_score\n",
    "X = df_selected.drop(columns=['Cardiovascular'])\n",
    "y = df_selected['Cardiovascular']\n",
    "\n",
    "X_train, X_test, y_train, y_test = train_test_split(X, y, test_size=0.2, random_state=42)\n",
    "\n",
    "\n",
    "zero_rule_model = DummyClassifier(strategy=\"most_frequent\")\n",
    "\n",
    "\n",
    "zero_rule_model.fit(X_train, y_train)\n",
    "\n",
    "\n",
    "y_pred = zero_rule_model.predict(X_test)\n",
    "\n",
    "\n",
    "print(classification_report(y_test, y_pred))\n",
    "print(f\"Accuracy: {accuracy_score(y_test, y_pred)}\")"
   ]
  },
  {
   "cell_type": "code",
   "execution_count": 29,
   "id": "f34b4068",
   "metadata": {},
   "outputs": [
    {
     "name": "stdout",
     "output_type": "stream",
     "text": [
      "              precision    recall  f1-score   support\n",
      "\n",
      "         0.0       0.78      0.84      0.81       301\n",
      "         1.0       0.82      0.75      0.78       289\n",
      "\n",
      "    accuracy                           0.80       590\n",
      "   macro avg       0.80      0.80      0.80       590\n",
      "weighted avg       0.80      0.80      0.80       590\n",
      "\n",
      "Accuracy: 0.7966101694915254\n"
     ]
    }
   ],
   "source": [
    "import pandas as pd\n",
    "from sklearn.model_selection import train_test_split\n",
    "from sklearn.linear_model import LogisticRegression\n",
    "from sklearn.metrics import classification_report, accuracy_score\n",
    "X = df_selected.drop(columns=['Cardiovascular'])\n",
    "y = df_selected['Cardiovascular']\n",
    "\n",
    "X_train, X_test, y_train, y_test = train_test_split(X, y, test_size=0.2, random_state=42)\n",
    "\n",
    "\n",
    "logistic_regression_model = LogisticRegression(max_iter=1000)\n",
    "\n",
    "\n",
    "logistic_regression_model.fit(X_train, y_train)\n",
    "\n",
    "\n",
    "y_pred = logistic_regression_model.predict(X_test)\n",
    "\n",
    "\n",
    "print(classification_report(y_test, y_pred))\n",
    "print(f\"Accuracy: {accuracy_score(y_test, y_pred)}\")"
   ]
  },
  {
   "cell_type": "code",
   "execution_count": 31,
   "id": "ec5f4d07",
   "metadata": {},
   "outputs": [
    {
     "name": "stdout",
     "output_type": "stream",
     "text": [
      "              precision    recall  f1-score   support\n",
      "\n",
      "         0.0       0.82      0.84      0.83       301\n",
      "         1.0       0.83      0.81      0.82       289\n",
      "\n",
      "    accuracy                           0.83       590\n",
      "   macro avg       0.83      0.83      0.83       590\n",
      "weighted avg       0.83      0.83      0.83       590\n",
      "\n",
      "Accuracy: 0.8271186440677966\n"
     ]
    }
   ],
   "source": [
    "import pandas as pd\n",
    "from sklearn.model_selection import train_test_split\n",
    "from sklearn.preprocessing import StandardScaler\n",
    "from sklearn.neural_network import MLPClassifier\n",
    "from sklearn.metrics import classification_report, accuracy_score\n",
    "X = df_selected.drop(columns=['Cardiovascular'])\n",
    "y = df_selected['Cardiovascular']\n",
    "\n",
    "X_train, X_test, y_train, y_test = train_test_split(X, y, test_size=0.2, random_state=42)\n",
    "\n",
    "\n",
    "scaler = StandardScaler()\n",
    "X_train = scaler.fit_transform(X_train)\n",
    "X_test = scaler.transform(X_test)\n",
    "\n",
    "\n",
    "nn_model = MLPClassifier(hidden_layer_sizes=(100,), max_iter=1000)\n",
    "\n",
    "\n",
    "nn_model.fit(X_train, y_train)\n",
    "\n",
    "\n",
    "y_pred = nn_model.predict(X_test)\n",
    "\n",
    "\n",
    "print(classification_report(y_test, y_pred))\n",
    "print(f\"Accuracy: {accuracy_score(y_test, y_pred)}\")"
   ]
  },
  {
   "cell_type": "code",
   "execution_count": null,
   "id": "2b4f4f0c",
   "metadata": {},
   "outputs": [],
   "source": []
  }
 ],
 "metadata": {
  "kernelspec": {
   "display_name": "Python 3 (ipykernel)",
   "language": "python",
   "name": "python3"
  },
  "language_info": {
   "codemirror_mode": {
    "name": "ipython",
    "version": 3
   },
   "file_extension": ".py",
   "mimetype": "text/x-python",
   "name": "python",
   "nbconvert_exporter": "python",
   "pygments_lexer": "ipython3",
   "version": "3.10.9"
  }
 },
 "nbformat": 4,
 "nbformat_minor": 5
}
