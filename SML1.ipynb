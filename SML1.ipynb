{
 "cells": [
  {
   "cell_type": "code",
   "execution_count": 48,
   "id": "429c0622",
   "metadata": {},
   "outputs": [
    {
     "name": "stdout",
     "output_type": "stream",
     "text": [
      "             LOG_ID            PAT_ID               MRN\n",
      "0  cd1636c6279d73a0  6e63d0d0b2923aff  2e92522a5f2a2a22\n",
      "1  fc53c06ee2cfe438  b28adc8d6f77e65d  b7a91e623d957d8f\n",
      "2  2f0090c47da34608  e9bd8635405e59e6  b68d6c7198f30f73\n",
      "3  6d3b621880c6ced4  786783dacfd6c175  46aa48e89b9c50e8\n",
      "4  82f89e10f2855420  c5fb8951e47e30dc  c2756216cc89b795\n"
     ]
    }
   ],
   "source": [
    "import pandas as pd\n",
    "\n",
    "\n",
    "df1 = pd.read_csv('F:\\EPIC_EMR\\EMR\\EPIC_MRN_PAT_ID.csv')\n",
    "\n",
    "\n",
    "print(df1.head())\n"
   ]
  },
  {
   "cell_type": "code",
   "execution_count": 49,
   "id": "97c704a8",
   "metadata": {},
   "outputs": [
    {
     "name": "stdout",
     "output_type": "stream",
     "text": [
      "                MRN  SOURCE_KEY                       SOURCE_NAME  \\\n",
      "0  798a98e2a1bcbac7           3  Final Diagnosis Primary Code Set   \n",
      "1  798a98e2a1bcbac7           3  Final Diagnosis Primary Code Set   \n",
      "2  798a98e2a1bcbac7           3  Final Diagnosis Primary Code Set   \n",
      "3  798a98e2a1bcbac7           3  Final Diagnosis Primary Code Set   \n",
      "4  798a98e2a1bcbac7          11    ICD Procedure Primary Code Set   \n",
      "\n",
      "                                                NAME REF_BILL_CODE_SET_NAME  \\\n",
      "0  Infection and inflammatory reaction due to int...              ICD-10-CM   \n",
      "1  Postprocedural septic shock, initial encounter...              ICD-10-CM   \n",
      "2                   Hypo-osmolality and hyponatremia              ICD-10-CM   \n",
      "3     Nicotine dependence, cigarettes, uncomplicated              ICD-10-CM   \n",
      "4        Excision of Left Upper Femur, Open Approach             ICD-10-PCS   \n",
      "\n",
      "  REF_BILL_CODE  \n",
      "0      T84.621A  \n",
      "1      T81.12XA  \n",
      "2         E87.1  \n",
      "3       F17.210  \n",
      "4       0QB70ZZ  \n"
     ]
    }
   ],
   "source": [
    "import pandas as pd\n",
    "df2 = pd.read_csv('F:\\EPIC_EMR\\EMR\\patient_coding.csv')\n",
    "print(df2.head())"
   ]
  },
  {
   "cell_type": "code",
   "execution_count": 50,
   "id": "189a6857",
   "metadata": {},
   "outputs": [
    {
     "name": "stdout",
     "output_type": "stream",
     "text": [
      "                mrn diagnosis_code  \\\n",
      "0  b0064ab7d9de1fb0          054.0   \n",
      "1  660dba43ab722490         054.42   \n",
      "2  285bd3ff84a507f4         054.42   \n",
      "3  713cff218865f4a3         054.79   \n",
      "4  a75b440dac37861e          117.3   \n",
      "\n",
      "                                             dx_name  \n",
      "0                                  Eczema herpeticum  \n",
      "1                                Dendritic keratitis  \n",
      "2                                Dendritic keratitis  \n",
      "3  Herpes simplex with other specified complicati...  \n",
      "4                            Aspergillosis (CMS-HCC)  \n"
     ]
    }
   ],
   "source": [
    "import pandas as pd\n",
    "df3 = pd.read_csv('F:\\EPIC_EMR\\EMR\\patient_history.csv')\n",
    "print(df3.head())"
   ]
  },
  {
   "cell_type": "code",
   "execution_count": 51,
   "id": "39f30177",
   "metadata": {
    "scrolled": true
   },
   "outputs": [
    {
     "name": "stdout",
     "output_type": "stream",
     "text": [
      "             LOG_ID               MRN  DISCH_DISP_C        DISCH_DISP  \\\n",
      "0  cd1636c6279d73a0  2e92522a5f2a2a22          15.0      Home Routine   \n",
      "1  fc53c06ee2cfe438  b7a91e623d957d8f          16.0  Hospice Facility   \n",
      "2  2f0090c47da34608  b68d6c7198f30f73          15.0      Home Routine   \n",
      "3  6d3b621880c6ced4  46aa48e89b9c50e8          15.0      Home Routine   \n",
      "4  82f89e10f2855420  c2756216cc89b795          15.0      Home Routine   \n",
      "\n",
      "  HOSP_ADMSN_TIME HOSP_DISCH_TIME   LOS ICU_ADMIN_FLAG   SURGERY_DATE  \\\n",
      "0  12/20/18 11:20  12/21/18 12:15   1.0             No  12/20/18 0:00   \n",
      "1    9/27/19 9:02  10/18/19 18:13  21.0            Yes   9/27/19 0:00   \n",
      "2     4/8/19 9:33   4/11/19 12:34   3.0            Yes    4/8/19 0:00   \n",
      "3    12/3/18 5:57   12/4/18 12:57   1.0             No   12/3/18 0:00   \n",
      "4    4/19/19 6:19    4/20/19 9:26   1.0             No   4/19/19 0:00   \n",
      "\n",
      "   BIRTH_DATE  ... PRIMARY_ANES_TYPE_NM  ASA_RATING_C  \\\n",
      "0          47  ...              General           3.0   \n",
      "1          81  ...              General           3.0   \n",
      "2          49  ...              General           2.0   \n",
      "3          54  ...              General           2.0   \n",
      "4          44  ...              General           2.0   \n",
      "\n",
      "                ASA_RATING PATIENT_CLASS_GROUP             PATIENT_CLASS_NM  \\\n",
      "0  Severe Systemic Disease          Outpatient  Hospital Outpatient Surgery   \n",
      "1  Severe Systemic Disease          Outpatient  Hospital Outpatient Surgery   \n",
      "2    Mild Systemic Disease           Inpatient   Hospital Inpatient Surgery   \n",
      "3    Mild Systemic Disease          Outpatient  Hospital Outpatient Surgery   \n",
      "4    Mild Systemic Disease          Outpatient  Hospital Outpatient Surgery   \n",
      "\n",
      "                            PRIMARY_PROCEDURE_NM      IN_OR_DTTM  \\\n",
      "0  INSERTION, PUBOVAGINAL SLING, WITH CYSTOSCOPY  12/20/18 12:27   \n",
      "1                                GI EGD DILATION    9/27/19 9:52   \n",
      "2                                    CRANIECTOMY    4/8/19 14:41   \n",
      "3               REVISION, RECONSTRUCTION, BREAST    12/3/18 8:09   \n",
      "4               REVISION, RECONSTRUCTION, BREAST    4/19/19 8:13   \n",
      "\n",
      "      OUT_OR_DTTM AN_START_DATETIME AN_STOP_DATETIME  \n",
      "0  12/20/18 17:25    12/20/18 12:27   12/20/18 17:34  \n",
      "1   9/27/19 11:27      9/27/19 9:52    9/27/19 11:44  \n",
      "2    4/8/19 18:46      4/8/19 14:41     4/8/19 18:53  \n",
      "3   12/3/18 11:49      12/3/18 8:09    12/3/18 11:52  \n",
      "4   4/19/19 14:51      4/19/19 8:14    4/19/19 15:00  \n",
      "\n",
      "[5 rows x 23 columns]\n"
     ]
    }
   ],
   "source": [
    "import pandas as pd\n",
    "df4 = pd.read_csv('F:\\EPIC_EMR\\EMR\\patient_information.csv')\n",
    "print(df4.head())"
   ]
  },
  {
   "cell_type": "code",
   "execution_count": 83,
   "id": "dcc78e2a",
   "metadata": {},
   "outputs": [
    {
     "name": "stdout",
     "output_type": "stream",
     "text": [
      "             LOG_ID               MRN         ENC_TYPE_NM Lab Code  \\\n",
      "0  0da0bc3be9423462  1bb09d5761661c7d  Hospital Encounter  11475-1   \n",
      "1  0da0bc3be9423462  1bb09d5761661c7d  Hospital Encounter   1975-2   \n",
      "2  3ab8e6344cc9f954  559c869f9d7db8ee  Hospital Encounter  19235-1   \n",
      "3  3ab8e6344cc9f954  559c869f9d7db8ee  Hospital Encounter  19235-1   \n",
      "4  3ab8e6344cc9f954  559c869f9d7db8ee  Hospital Encounter   1959-6   \n",
      "\n",
      "                   Lab Name  Observation Value Measurement Units  \\\n",
      "0  Microorganism identified          9999999.0           Unknown   \n",
      "1                 Bilirubin                1.4             mg/dL   \n",
      "2     Base excess^^standard          9999999.0            MMOL/L   \n",
      "3     Base excess^^standard          9999999.0            MMOL/L   \n",
      "4               Bicarbonate               20.0            MMOL/L   \n",
      "\n",
      "  Reference Range Abnormal Flag  Collection Datetime  \n",
      "0         Unknown             N  2021-01-14 20:58:00  \n",
      "1         0.0-1.4             N  2021-01-13 10:41:00  \n",
      "2         Unknown             N  2020-03-08 00:40:00  \n",
      "3         Unknown             N  2020-03-10 13:30:00  \n",
      "4           21-27             L  2020-03-07 23:33:00  \n"
     ]
    }
   ],
   "source": [
    "import pandas as pd\n",
    "df5 = pd.read_csv('F:\\EPIC_EMR\\EMR\\patient_labs.csv')\n",
    "print(df5.head())"
   ]
  },
  {
   "cell_type": "code",
   "execution_count": 53,
   "id": "c9b90518",
   "metadata": {},
   "outputs": [
    {
     "name": "stdout",
     "output_type": "stream",
     "text": [
      "             LOG_ID               MRN  Cardiovascular\n",
      "0  8c615f6805325d06  692072abc16db15d             1.0\n",
      "1  0ecf38ed306338f6  4c29aee08612d793             1.0\n",
      "2  595439a55deda0d5  71d77695a69b26d2             1.0\n",
      "3  36662c223daeac3a  08b0d6a24cf382ad             1.0\n",
      "4  1383c875d3b6ffbd  4c29aee08612d793             1.0\n",
      "(1604, 3)\n"
     ]
    }
   ],
   "source": [
    "import pandas as pd\n",
    "df6 = pd.read_csv('F:\\\\EPIC_EMR\\\\EMR\\\\trainData_label.csv')\n",
    "print(df6.head())\n",
    "print(df6.shape)"
   ]
  },
  {
   "cell_type": "code",
   "execution_count": 87,
   "id": "3a565bc7",
   "metadata": {
    "scrolled": true
   },
   "outputs": [
    {
     "name": "stdout",
     "output_type": "stream",
     "text": [
      "             LOG_ID            PAT_ID               MRN  Cardiovascular\n",
      "0  d754f06a7d973a26  837532f458d9c660  0b8de903ea63082a             0.0\n",
      "1  5a95970d5c8fc355  fd18a41f136ed278  0a8b72c1cec4ae47             0.0\n",
      "2  138d44a06cf4b57f  fd18a41f136ed278  0a8b72c1cec4ae47             0.0\n",
      "3  82372dc4703ea1b0  648781c95d863ec6  e0cb9244fedd1ac7             0.0\n",
      "4  4b6aabaf62e85c0a  d1d7b9ddc4962cdf  3918b79e03cefe27             0.0\n",
      "(1626, 4)\n"
     ]
    }
   ],
   "source": [
    "# df1_selected = df1.drop_duplicates(subset=['LOG_ID'])\n",
    "# df6_selected = df6.drop_duplicates(subset=['LOG_ID'])\n",
    "merged_df = pd.merge(df1, df6, on=['LOG_ID','MRN'])\n",
    "print(merged_df.head())\n",
    "print(merged_df.shape)"
   ]
  },
  {
   "cell_type": "code",
   "execution_count": 88,
   "id": "aa06e70e",
   "metadata": {
    "scrolled": true
   },
   "outputs": [
    {
     "name": "stdout",
     "output_type": "stream",
     "text": [
      "             LOG_ID            PAT_ID               MRN  Cardiovascular   LOS  \\\n",
      "0  d754f06a7d973a26  837532f458d9c660  0b8de903ea63082a             0.0   1.0   \n",
      "1  5a95970d5c8fc355  fd18a41f136ed278  0a8b72c1cec4ae47             0.0  10.0   \n",
      "2  138d44a06cf4b57f  fd18a41f136ed278  0a8b72c1cec4ae47             0.0  10.0   \n",
      "3  82372dc4703ea1b0  648781c95d863ec6  e0cb9244fedd1ac7             0.0   3.0   \n",
      "4  4b6aabaf62e85c0a  d1d7b9ddc4962cdf  3918b79e03cefe27             0.0   3.0   \n",
      "\n",
      "  ICU_ADMIN_FLAG HEIGHT   WEIGHT     SEX  ASA_RATING_C  \n",
      "0             No   6' 2  3089.97    Male           2.0  \n",
      "1            Yes    NaN  3365.10    Male           3.0  \n",
      "2            Yes    NaN  3365.10    Male           3.0  \n",
      "3            Yes   5' 3  2336.88  Female           2.0  \n",
      "4            Yes    NaN  2879.74    Male           2.0  \n",
      "(1671, 10)\n"
     ]
    }
   ],
   "source": [
    "df4_2=df4[['LOG_ID','LOS','ICU_ADMIN_FLAG','HEIGHT','WEIGHT','SEX','ASA_RATING_C']]\n",
    "# df4_selected=df4_2.drop_duplicates(subset=['LOG_ID'])\n",
    "merged_df2 = pd.merge(merged_df, df4_2, on=['LOG_ID'])\n",
    "print(merged_df2.head())\n",
    "print(merged_df2.shape)"
   ]
  },
  {
   "cell_type": "code",
   "execution_count": 89,
   "id": "292ca586",
   "metadata": {},
   "outputs": [
    {
     "name": "stdout",
     "output_type": "stream",
     "text": [
      "             LOG_ID            PAT_ID               MRN  Cardiovascular  LOS  \\\n",
      "0  4b6aabaf62e85c0a  d1d7b9ddc4962cdf  3918b79e03cefe27             0.0  3.0   \n",
      "1  4b6aabaf62e85c0a  d1d7b9ddc4962cdf  3918b79e03cefe27             0.0  3.0   \n",
      "2  4b6aabaf62e85c0a  d1d7b9ddc4962cdf  3918b79e03cefe27             0.0  3.0   \n",
      "3  32f1980e3944170e  8d29d99bae6382be  0dcace1cd2a4d89d             0.0  1.0   \n",
      "4  32f1980e3944170e  8d29d99bae6382be  0dcace1cd2a4d89d             0.0  1.0   \n",
      "\n",
      "  ICU_ADMIN_FLAG HEIGHT   WEIGHT   SEX  ASA_RATING_C Abnormal Flag  \n",
      "0            Yes    NaN  2879.74  Male           2.0             N  \n",
      "1            Yes    NaN  2879.74  Male           2.0             L  \n",
      "2            Yes    NaN  2879.74  Male           2.0             H  \n",
      "3             No    NaN  1968.27  Male           3.0             N  \n",
      "4             No    NaN  1968.27  Male           3.0             L  \n",
      "(4249, 11)\n"
     ]
    }
   ],
   "source": [
    "df5_selected=df5.drop_duplicates(subset=['LOG_ID','Abnormal Flag'])\n",
    "df5_2=df5_selected[['LOG_ID','Abnormal Flag']]\n",
    "merged_df3 = pd.merge(merged_df2, df5_2, on=['LOG_ID'])\n",
    "print(merged_df3.head())\n",
    "print(merged_df3.shape)"
   ]
  },
  {
   "cell_type": "code",
   "execution_count": 90,
   "id": "b403a3f4",
   "metadata": {},
   "outputs": [],
   "source": [
    "merged_df3.to_csv('SML2.csv', index=True)"
   ]
  },
  {
   "cell_type": "code",
   "execution_count": null,
   "id": "62d24a9b",
   "metadata": {},
   "outputs": [],
   "source": []
  }
 ],
 "metadata": {
  "kernelspec": {
   "display_name": "Python 3 (ipykernel)",
   "language": "python",
   "name": "python3"
  },
  "language_info": {
   "codemirror_mode": {
    "name": "ipython",
    "version": 3
   },
   "file_extension": ".py",
   "mimetype": "text/x-python",
   "name": "python",
   "nbconvert_exporter": "python",
   "pygments_lexer": "ipython3",
   "version": "3.10.9"
  }
 },
 "nbformat": 4,
 "nbformat_minor": 5
}
