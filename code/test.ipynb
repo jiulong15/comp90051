{
 "cells": [
  {
   "cell_type": "code",
   "execution_count": 2,
   "metadata": {},
   "outputs": [
    {
     "ename": "ModuleNotFoundError",
     "evalue": "No module named 'BernoulliXML_Tools_Only'",
     "output_type": "error",
     "traceback": [
      "\u001b[1;31m---------------------------------------------------------------------------\u001b[0m",
      "\u001b[1;31mModuleNotFoundError\u001b[0m                       Traceback (most recent call last)",
      "Cell \u001b[1;32mIn[2], line 3\u001b[0m\n\u001b[0;32m      1\u001b[0m \u001b[38;5;28;01mimport\u001b[39;00m \u001b[38;5;21;01mos\u001b[39;00m\n\u001b[0;32m      2\u001b[0m \u001b[38;5;28;01mimport\u001b[39;00m \u001b[38;5;21;01mmath\u001b[39;00m\n\u001b[1;32m----> 3\u001b[0m \u001b[38;5;28;01mimport\u001b[39;00m \u001b[38;5;21;01mBernoulliXML_Tools_Only\u001b[39;00m \u001b[38;5;28;01mas\u001b[39;00m \u001b[38;5;21;01mBT\u001b[39;00m\n\u001b[0;32m      4\u001b[0m \u001b[38;5;28;01mimport\u001b[39;00m \u001b[38;5;21;01msys\u001b[39;00m\n\u001b[0;32m      5\u001b[0m \u001b[38;5;28;01mimport\u001b[39;00m \u001b[38;5;21;01mmatplotlib\u001b[39;00m\u001b[38;5;21;01m.\u001b[39;00m\u001b[38;5;21;01mpyplot\u001b[39;00m \u001b[38;5;28;01mas\u001b[39;00m \u001b[38;5;21;01mplt\u001b[39;00m\n",
      "\u001b[1;31mModuleNotFoundError\u001b[0m: No module named 'BernoulliXML_Tools_Only'"
     ]
    }
   ],
   "source": [
    "import os\n",
    "import math\n",
    "import BernoulliXML_Tools_Only as BT\n",
    "import sys\n",
    "import matplotlib.pyplot as plt\n",
    "import csv"
   ]
  },
  {
   "cell_type": "code",
   "execution_count": null,
   "metadata": {},
   "outputs": [],
   "source": [
    "def Execute(patient_dir: str, patient_id: str, output_dir: str, debug=False):\n",
    "    '''\n",
    "    Execute an single patient in the input_dir.\n",
    "    '''\n",
    "    # =================================================================\n",
    "    input_dir = patient_dir\n",
    "\n",
    "    # Before execution, check the type of waveforms(IP, CB) and then identify if there does exist data.\n",
    "    keep = []\n",
    "    IP_type = True\n",
    "    Found_data = False\n",
    "    for IP_type in [True, False]:\n",
    "        flist_tmp = BT.Find_XML_in_DIR(input_dir, \"sampleID\", \"2025-01-10\", debug=debug, IP=IP_type)\n",
    "        flist = []\n",
    "        for x in flist_tmp:\n",
    "            if x.split('/')[-1].split('-')[0] == patient_id:\n",
    "                flist.append(x)\n",
    "        if HF.check_data_in_filelist(flist):\n",
    "            Found_data = True\n",
    "            break\n",
    "\n",
    "    if Found_data == False:\n",
    "        raise ValueError(\"Found no data for patient.\")\n",
    "\n",
    "    # Execution and print length and frequency of waves.\n",
    "    Wave = BT.load_xml_into_wave_assembly(flist)\n",
    "    if debug:\n",
    "        print(f\"\\tcb_inv: {len(Wave.cb_inv)}, art: {len(Wave.art)}, cb_ihz: {Wave.cb_ihz}\")\n",
    "        print(f\"\\tcb_ecg: {len(Wave.cb_ecg)}, ecg: {len(Wave.ecg)}, cb_ehz: {Wave.cb_ehz}\")\n",
    "        print(f\"\\tcb_pleth: {len(Wave.cb_pleth)}\")\n",
    "\n",
    "    waveInfoLib = {\"cb_inv\": len(Wave.cb_inv), \"art\": len(Wave.art), \"cb_ecg\": len(Wave.cb_ecg), \\\n",
    "                        \"ecg\": len(Wave.ecg), \"cb_pleth\": len(Wave.cb_pleth)}\n",
    "    flag = 0\n",
    "    for waveType in waveInfoLib:\n",
    "        if waveInfoLib[waveType] != 0:\n",
    "            flag += 1\n",
    "            if waveType == \"cb_inv\":\n",
    "                WaveTarg = Wave.cb_inv\n",
    "            elif waveType == \"art\":\n",
    "                WaveTarg = Wave.art\n",
    "            elif waveType == \"cb_ecg\":\n",
    "                WaveTarg = Wave.cb_ecg\n",
    "            elif waveType == \"ecg\":\n",
    "                WaveTarg = Wave.ecg\n",
    "            elif waveType == \"cb_pleth\":\n",
    "                WaveTarg = Wave.cb_pleth\n",
    "\n",
    "            # Now find the segments I need\n",
    "            keep = []\n",
    "            # Now find the segments I need\n",
    "            for j in range(len(WaveTarg)):\n",
    "                keep.append(WaveTarg[j])\n",
    "\n",
    "            (Fwave, true_hz, windex, wave_start_time, wave_end_time, _proc_notes) = BT.build_wave(keep, 100, 1)\n",
    "            # IP_type = \"IP\" if IP_type else \"CB\"\n",
    "            output_filename = os.path.join(output_dir, f\"{patient_id}.csv\")\n",
    "            if flag == 1: # This means this is the first time of creating csv.\n",
    "                with open(output_filename, 'w', newline='', encoding=\"utf8\") as csvfile:\n",
    "                    writer = csv.writer(csvfile)\n",
    "                    writer.writerow(['type', 'start_time', 'end_time', 'true_hz_rate', 'datapoints'])\n",
    "                    writer.writerow(\n",
    "                        [waveType, wave_start_time.timestamp(), wave_end_time.timestamp(), true_hz, '|'.join(map(str, Fwave))])\n",
    "            else: # if not, just append a row to it. \n",
    "                with open(output_filename, 'a+', newline='', encoding=\"utf8\") as csvfile:\n",
    "                    writer = csv.writer(csvfile)\n",
    "                    writer.writerow(\n",
    "                        [waveType, wave_start_time.timestamp(), wave_end_time.timestamp(), true_hz, '|'.join(map(str, Fwave))])\n",
    "    if not flag:\n",
    "        raise ValueError(\"Found no waveform for patient.\")"
   ]
  },
  {
   "cell_type": "code",
   "execution_count": null,
   "metadata": {},
   "outputs": [],
   "source": [
    "\n",
    "\n",
    "\n",
    "def Plot(Fwave):\n",
    "    # plot the waveforms with pyplotlib\n",
    "    plt.figure()\n",
    "    sub1 = plt.subplot(1, 2, 1)\n",
    "    sub2 = plt.subplot(1, 2, 2)\n",
    "    sub1.plot(Fwave)\n",
    "    wavelen = len(Fwave)\n",
    "    sub2.plot(Fwave[math.ceil(wavelen / 2): math.ceil(wavelen / 2) + 300])\n",
    "    # plt.ylim(-1000, 1000)\n",
    "    plt.show()\n",
    "\n",
    "\n",
    "if __name__ == '__main__':\n",
    "    patient_id = \"36a7f4e56f22c97aIP\"\n",
    "    input_dir = r\"C:\\Users\\rodge\\OneDrive\\Desktop\\Wavefolders\\36\"\n",
    "    output_dir = r\"C:\\Users\\rodge\\OneDrive\\Desktop\\output\"\n",
    "    Execute(patient_id, input_dir, output_dir)"
   ]
  }
 ],
 "metadata": {
  "kernelspec": {
   "display_name": "Python 3",
   "language": "python",
   "name": "python3"
  },
  "language_info": {
   "codemirror_mode": {
    "name": "ipython",
    "version": 3
   },
   "file_extension": ".py",
   "mimetype": "text/x-python",
   "name": "python",
   "nbconvert_exporter": "python",
   "pygments_lexer": "ipython3",
   "version": "3.12.1"
  }
 },
 "nbformat": 4,
 "nbformat_minor": 2
}
