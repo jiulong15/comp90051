{
 "cells": [
  {
   "cell_type": "code",
   "execution_count": 63,
   "metadata": {},
   "outputs": [],
   "source": [
    "import pandas as pd\n",
    "import numpy as np\n",
    "from scipy.stats import skew, kurtosis\n",
    "from scipy.fft import fft\n",
    "from scipy.signal import find_peaks\n",
    "import ast\n",
    "import matplotlib.pyplot as plt"
   ]
  },
  {
   "cell_type": "code",
   "execution_count": 52,
   "metadata": {},
   "outputs": [],
   "source": [
    "df = pd.read_csv(r'C:\\Users\\rodge\\OneDrive\\Desktop\\SML\\Group Project\\comp90051\\data\\rawData\\processedData\\waveform_file_names.csv')"
   ]
  },
  {
   "cell_type": "code",
   "execution_count": 73,
   "metadata": {},
   "outputs": [
    {
     "name": "stdout",
     "output_type": "stream",
     "text": [
      "Singular Values: [2.72547916e+06 6.51869409e+03 5.93300480e+02 2.68054609e+02\n",
      " 5.76830155e+01 7.90109815e+00 4.49263652e-01 5.73106049e-12]\n"
     ]
    }
   ],
   "source": [
    "ART = df[df['mg_name'] == 'GE_ART'].reset_index(drop=True)\n",
    "ART.loc[:,'binwave'] = ART['binwave'].apply(lambda x: np.array(ast.literal_eval(x)))\n",
    "\n",
    "def statistical_ART(signal): \n",
    "    return {\n",
    "        'mean'  :np.mean(signal),\n",
    "        'std'   :np.std(signal),\n",
    "        'max'   :np.max(signal),\n",
    "        'min'   :np.min(signal),\n",
    "        'range' :np.ptp(signal),\n",
    "        'skewness':skew(signal),\n",
    "        'kurtosis':kurtosis(signal),\n",
    "        'variance':np.var(signal)\n",
    "    }\n",
    "\n",
    "ART_matrix = np.array([list(statistical_ART(row).values()) for row in ART['binwave']])\n",
    "U, S, Vt = np.linalg.svd(ART_matrix, full_matrices=False)\n",
    "print('Singular Values:', S)\n"
   ]
  },
  {
   "cell_type": "code",
   "execution_count": 84,
   "metadata": {},
   "outputs": [
    {
     "name": "stdout",
     "output_type": "stream",
     "text": [
      "Singular Values: [1.58660426e+06 7.34820121e+05 1.36456329e+05 2.34538036e+04\n",
      " 1.35926601e+03 7.41792669e+02 2.17705371e+02 1.36434765e+02\n",
      " 1.57793027e+01 1.39031110e+00 2.97851762e-01]\n"
     ]
    }
   ],
   "source": [
    "ECG = df[df['mg_name'] == 'GE_ECG'].reset_index(drop=True)\n",
    "ECG.loc[:,'binwave'] = ECG['binwave'].apply(lambda x: np.array(ast.literal_eval(x)))\n",
    "\n",
    "def featureExtraction_fft(signal, rate_hz):\n",
    "    \n",
    "    fft_transfer = fft(signal)\n",
    "    magnitude = np.abs(fft_transfer)\n",
    "    phase = np.angle(fft_transfer)\n",
    "\n",
    "    freq_resolution = rate_hz / len(signal)\n",
    "\n",
    "    low_freq_range = (0.5, 10)\n",
    "    qrs_freq_range = (10, 50)\n",
    "    high_freq_range = (50, rate_hz/2)\n",
    "\n",
    "    low_freq_indices = np.floor(np.array(low_freq_range) / freq_resolution).astype(int)\n",
    "    qrs_freq_indices = np.floor(np.array(qrs_freq_range) / freq_resolution).astype(int)\n",
    "    high_freq_indices = np.floor(np.array(high_freq_range) / freq_resolution).astype(int)\n",
    "\n",
    "    low_freq_power = np.sum(magnitude[low_freq_indices[0]:low_freq_indices[1]])\n",
    "    qrs_freq_power = np.sum(magnitude[qrs_freq_indices[0]:qrs_freq_indices[1]])\n",
    "    high_freq_power = np.sum(magnitude[high_freq_indices[0]:high_freq_indices[1]])\n",
    "    peak_freq = np.argmax(magnitude[1:]) * freq_resolution  # Frequency with highest magnitude\n",
    "\n",
    "    peaks, _ = find_peaks(magnitude)\n",
    "    num_peaks = len(peaks)\n",
    "\n",
    "    return {\n",
    "        'low_freq_power': low_freq_power,\n",
    "        'qrs_freq_power': qrs_freq_power,\n",
    "        'high_freq_power': high_freq_power,\n",
    "        'peak_freq': peak_freq,\n",
    "        'num_peaks': num_peaks,\n",
    "        'mean_magnitude': np.mean(magnitude),\n",
    "        'std_magnitude': np.std(magnitude),\n",
    "        'mean_phase': np.mean(phase),\n",
    "        'std_phase': np.std(phase),\n",
    "        'skewness_magnitude': skew(magnitude),\n",
    "        'kurtosis_magnitude': kurtosis(magnitude)\n",
    "    }\n",
    "\n",
    "\n",
    "feature_names = ['low_freq_power', 'qrs_freq_power', 'high_freq_power', 'peak_freq', 'num_peaks', \n",
    "                 'mean_magnitude', 'std_magnitude', 'mean_phase', 'std_phase', \n",
    "                 'skewness_magnitude', 'kurtosis_magnitude']\n",
    "\n",
    "fft_result = []\n",
    "\n",
    "for i in range(len(ECG)):\n",
    "    signal = ECG['binwave'][i]\n",
    "    rate_hz = ECG['hz'][i]\n",
    "    feature_result = featureExtraction_fft(signal, rate_hz)\n",
    "    fft_result.append([feature_result[name] for name in feature_names])\n",
    "\n",
    "\n",
    "ECG_df = pd.DataFrame(fft_result, columns=feature_names)\n",
    "ECG_matrix = np.array(fft_result)\n",
    "U, S, Vt = np.linalg.svd(ECG_matrix, full_matrices=False)\n",
    "print('Singular Values:', S)\n",
    "\n",
    "\n",
    "\n",
    "\n",
    "\n",
    "\n"
   ]
  },
  {
   "cell_type": "code",
   "execution_count": null,
   "metadata": {},
   "outputs": [],
   "source": []
  }
 ],
 "metadata": {
  "kernelspec": {
   "display_name": "Python 3",
   "language": "python",
   "name": "python3"
  },
  "language_info": {
   "codemirror_mode": {
    "name": "ipython",
    "version": 3
   },
   "file_extension": ".py",
   "mimetype": "text/x-python",
   "name": "python",
   "nbconvert_exporter": "python",
   "pygments_lexer": "ipython3",
   "version": "3.12.1"
  }
 },
 "nbformat": 4,
 "nbformat_minor": 2
}
