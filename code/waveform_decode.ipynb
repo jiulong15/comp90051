{
 "cells": [
  {
   "cell_type": "code",
   "execution_count": 56,
   "metadata": {},
   "outputs": [],
   "source": [
    "import base64\n",
    "import xml.etree.ElementTree as ET\n",
    "import pandas as pd\n",
    "import os"
   ]
  },
  {
   "cell_type": "code",
   "execution_count": 57,
   "metadata": {},
   "outputs": [],
   "source": [
    "def set_bit(v, index, x):\n",
    "    \"\"\"\n",
    "        Set the index:th bit of v to 1 if x is truthy,\n",
    "        else to 0, and return the new value.\n",
    "    \"\"\"\n",
    "    mask = 1 << index   # Compute mask, an integer with just bit 'index' set.\n",
    "    v &= ~mask          # Clear the bit indicated by the mask (if x is False)\n",
    "    if x:\n",
    "        v |= mask         # If x was True, set the bit indicated by the mask.\n",
    "    return v "
   ]
  },
  {
   "cell_type": "code",
   "execution_count": 59,
   "metadata": {},
   "outputs": [],
   "source": [
    "def decode_xml_file(file_path):\n",
    "    tree = ET.parse(file_path)\n",
    "    root = tree.getroot()\n",
    "\n",
    "    data = []\n",
    "\n",
    "    for cpc in root.findall('cpc'):\n",
    "        \n",
    "        seq = cpc.attrib.get('seq', None)\n",
    "        datetime = cpc.attrib.get('datetime', None)\n",
    "        tzoffset = cpc.attrib.get('tzoffset', None)\n",
    "        tz = cpc.attrib.get('tz', None)\n",
    "\n",
    "        for device in cpc.findall('.//device'):\n",
    "            for mg in device.findall('.//mg'):\n",
    "                mg_name = mg.attrib.get('name', None)\n",
    "                wave = ''\n",
    "                offset = 0\n",
    "                gain = 0\n",
    "                points = 0\n",
    "                hz = 0\n",
    "                binwave = []\n",
    "\n",
    "                for m in mg:                \n",
    "                    if m.attrib['name'] == 'Offset':\n",
    "                        offset = int(m.text)\n",
    "                    elif m.attrib['name'] == 'Gain':\n",
    "                        if mg_name == 'GE_ART':\n",
    "                            gain = 0.25\n",
    "                        elif mg_name == 'INVP1':\n",
    "                            gain = 0.01\n",
    "                        else:\n",
    "                            gain = float(m.text)       \n",
    "\n",
    "                    elif m.attrib['name'] == 'Hz':\n",
    "                        hz = int(m.text)   \n",
    "                    elif m.attrib['name'] == 'Points':\n",
    "                        points = int(m.text)\n",
    "                    elif m.attrib['name'] == 'Wave':\n",
    "                        wave = m.text\n",
    "\n",
    "                        wave = base64.b64decode(wave)\n",
    "\n",
    "                for i in range(0, len(wave)-1, 2):\n",
    "                    t  = (wave[i]) + wave[i+1] * 256\n",
    "                    t = set_bit(t, 15, 0) + (-32768) * (t >> 15)   \n",
    "\n",
    "                    t = t * gain + offset\n",
    "\n",
    "                    binwave.append(t)  \n",
    "\n",
    "                data.append([seq, datetime, tzoffset, tz, \n",
    "                                    mg_name,hz,points,binwave]) \n",
    "\n",
    "\n",
    "    df = pd.DataFrame(data, columns=['seq', 'datetime', 'tzoffset', 'tz', \n",
    "                                    'mg_name','hz','points','binwave'])                        \n",
    "\n",
    "    return df            "
   ]
  },
  {
   "cell_type": "code",
   "execution_count": 1,
   "metadata": {},
   "outputs": [],
   "source": [
    "\n",
    "filePath = r\"H:\\sml data\\epic_wave_2_v2.tar\\epic_wave_2_v2\\UCI_deidentified_part2_EPIC_08_10\\Waveforms\\\\\"\n",
    "folderName = []\n",
    "fileName = []"
   ]
  },
  {
   "cell_type": "code",
   "execution_count": null,
   "metadata": {},
   "outputs": [],
   "source": []
  }
 ],
 "metadata": {
  "kernelspec": {
   "display_name": "Python 3",
   "language": "python",
   "name": "python3"
  },
  "language_info": {
   "codemirror_mode": {
    "name": "ipython",
    "version": 3
   },
   "file_extension": ".py",
   "mimetype": "text/x-python",
   "name": "python",
   "nbconvert_exporter": "python",
   "pygments_lexer": "ipython3",
   "version": "3.12.1"
  }
 },
 "nbformat": 4,
 "nbformat_minor": 2
}
