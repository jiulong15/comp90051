{
 "cells": [
  {
   "cell_type": "code",
   "execution_count": 248,
   "metadata": {},
   "outputs": [],
   "source": [
    "import pandas as pd\n",
    "import os\n",
    "import matplotlib.pyplot as plt"
   ]
  },
  {
   "cell_type": "code",
   "execution_count": 249,
   "metadata": {},
   "outputs": [],
   "source": [
    "file_path = r'C:\\Users\\rodge\\OneDrive\\Desktop\\SML\\Group Project\\comp90051\\data\\rawData\\unzip_file\\\\'\n",
    "post_op = 'patient_post_op_complications.csv'\n",
    "patient_info = 'patient_information.csv'\n",
    "patient_id = 'EPIC_MRN_PAT_ID.csv'\n",
    "\n",
    "post_op =pd.read_csv(os.path.join(file_path, post_op))\n",
    "patient_info = pd.read_csv(os.path.join(file_path, patient_info))\n",
    "patient_id = pd.read_csv(os.path.join(file_path, patient_id))\n"
   ]
  },
  {
   "cell_type": "markdown",
   "metadata": {},
   "source": [
    "### Data Cleaning for duplciate value"
   ]
  },
  {
   "cell_type": "code",
   "execution_count": 250,
   "metadata": {},
   "outputs": [
    {
     "name": "stdout",
     "output_type": "stream",
     "text": [
      "(866, 6)\n",
      "(861, 6)\n"
     ]
    }
   ],
   "source": [
    "# Check the duplicate value in post_operation_complications\n",
    "\n",
    "post_op_cardiac = post_op[post_op['Element_abbr'] == 'Cardiovascular']\n",
    "print(post_op_cardiac.shape)\n",
    "post_op_cardiac = post_op_cardiac.drop_duplicates()\n",
    "print(post_op_cardiac.shape)"
   ]
  },
  {
   "cell_type": "markdown",
   "metadata": {},
   "source": [
    "The results output is 861 which is the same as statis number in the paper"
   ]
  },
  {
   "cell_type": "code",
   "execution_count": 251,
   "metadata": {},
   "outputs": [
    {
     "data": {
      "text/html": [
       "<div>\n",
       "<style scoped>\n",
       "    .dataframe tbody tr th:only-of-type {\n",
       "        vertical-align: middle;\n",
       "    }\n",
       "\n",
       "    .dataframe tbody tr th {\n",
       "        vertical-align: top;\n",
       "    }\n",
       "\n",
       "    .dataframe thead th {\n",
       "        text-align: right;\n",
       "    }\n",
       "</style>\n",
       "<table border=\"1\" class=\"dataframe\">\n",
       "  <thead>\n",
       "    <tr style=\"text-align: right;\">\n",
       "      <th></th>\n",
       "      <th>LOG_ID</th>\n",
       "      <th>MRN</th>\n",
       "      <th>DISCH_DISP_C</th>\n",
       "      <th>DISCH_DISP</th>\n",
       "      <th>HOSP_ADMSN_TIME</th>\n",
       "      <th>HOSP_DISCH_TIME</th>\n",
       "      <th>LOS</th>\n",
       "      <th>ICU_ADMIN_FLAG</th>\n",
       "      <th>SURGERY_DATE</th>\n",
       "      <th>BIRTH_DATE</th>\n",
       "      <th>...</th>\n",
       "      <th>PRIMARY_ANES_TYPE_NM</th>\n",
       "      <th>ASA_RATING_C</th>\n",
       "      <th>ASA_RATING</th>\n",
       "      <th>PATIENT_CLASS_GROUP</th>\n",
       "      <th>PATIENT_CLASS_NM</th>\n",
       "      <th>PRIMARY_PROCEDURE_NM</th>\n",
       "      <th>IN_OR_DTTM</th>\n",
       "      <th>OUT_OR_DTTM</th>\n",
       "      <th>AN_START_DATETIME</th>\n",
       "      <th>AN_STOP_DATETIME</th>\n",
       "    </tr>\n",
       "  </thead>\n",
       "  <tbody>\n",
       "    <tr>\n",
       "      <th>43933</th>\n",
       "      <td>05774cae27b409e6</td>\n",
       "      <td>e859200ba4c3c045</td>\n",
       "      <td>69.0</td>\n",
       "      <td>Designated Disaster Alternate Care Site</td>\n",
       "      <td>1/9/21 2:12</td>\n",
       "      <td>2/13/21 9:40</td>\n",
       "      <td>35.0</td>\n",
       "      <td>Yes</td>\n",
       "      <td>1/14/21 0:00</td>\n",
       "      <td>39</td>\n",
       "      <td>...</td>\n",
       "      <td>General</td>\n",
       "      <td>4.0</td>\n",
       "      <td>Incapacitating Disease</td>\n",
       "      <td>Inpatient</td>\n",
       "      <td>Inpatient Admission</td>\n",
       "      <td>ORIF, FRACTURE, FEMUR, MIDSHAFT</td>\n",
       "      <td>1/14/21 13:25</td>\n",
       "      <td>1/14/21 15:30</td>\n",
       "      <td>1/14/21 13:25</td>\n",
       "      <td>1/14/21 16:05</td>\n",
       "    </tr>\n",
       "    <tr>\n",
       "      <th>25098</th>\n",
       "      <td>05774cae27b409e6</td>\n",
       "      <td>e859200ba4c3c045</td>\n",
       "      <td>69.0</td>\n",
       "      <td>Designated Disaster Alternative Care Site</td>\n",
       "      <td>1/9/21 2:12</td>\n",
       "      <td>2/13/21 9:40</td>\n",
       "      <td>35.0</td>\n",
       "      <td>Yes</td>\n",
       "      <td>1/14/21 0:00</td>\n",
       "      <td>39</td>\n",
       "      <td>...</td>\n",
       "      <td>General</td>\n",
       "      <td>4.0</td>\n",
       "      <td>Incapacitating Disease</td>\n",
       "      <td>Inpatient</td>\n",
       "      <td>Inpatient Admission</td>\n",
       "      <td>ORIF, FRACTURE, FEMUR, MIDSHAFT</td>\n",
       "      <td>1/14/21 13:25</td>\n",
       "      <td>1/14/21 15:30</td>\n",
       "      <td>1/14/21 13:25</td>\n",
       "      <td>1/14/21 16:05</td>\n",
       "    </tr>\n",
       "    <tr>\n",
       "      <th>25615</th>\n",
       "      <td>0c6b137659f5df02</td>\n",
       "      <td>fc63c830038a1f83</td>\n",
       "      <td>20.0</td>\n",
       "      <td>Home Healthcare IP Admit Related</td>\n",
       "      <td>11/3/20 21:32</td>\n",
       "      <td>11/14/20 11:45</td>\n",
       "      <td>11.0</td>\n",
       "      <td>Yes</td>\n",
       "      <td>11/9/20 0:00</td>\n",
       "      <td>53</td>\n",
       "      <td>...</td>\n",
       "      <td>General</td>\n",
       "      <td>4.0</td>\n",
       "      <td>Incapacitating Disease</td>\n",
       "      <td>Inpatient</td>\n",
       "      <td>Inpatient Admission</td>\n",
       "      <td>REPLACEMENT, AORTIC VALVE</td>\n",
       "      <td>11/9/20 6:45</td>\n",
       "      <td>11/9/20 12:05</td>\n",
       "      <td>11/9/20 6:45</td>\n",
       "      <td>11/9/20 12:15</td>\n",
       "    </tr>\n",
       "    <tr>\n",
       "      <th>33456</th>\n",
       "      <td>0c6b137659f5df02</td>\n",
       "      <td>18d889ebcda81db9</td>\n",
       "      <td>20.0</td>\n",
       "      <td>Home Healthcare IP Admit Related</td>\n",
       "      <td>8/31/20 21:32</td>\n",
       "      <td>9/11/20 11:45</td>\n",
       "      <td>11.0</td>\n",
       "      <td>Yes</td>\n",
       "      <td>9/6/20 0:00</td>\n",
       "      <td>53</td>\n",
       "      <td>...</td>\n",
       "      <td>General</td>\n",
       "      <td>4.0</td>\n",
       "      <td>Incapacitating Disease</td>\n",
       "      <td>Inpatient</td>\n",
       "      <td>Inpatient Admission</td>\n",
       "      <td>REPLACEMENT, AORTIC VALVE</td>\n",
       "      <td>9/6/20 6:45</td>\n",
       "      <td>9/6/20 12:05</td>\n",
       "      <td>9/6/20 6:45</td>\n",
       "      <td>9/6/20 12:15</td>\n",
       "    </tr>\n",
       "    <tr>\n",
       "      <th>61953</th>\n",
       "      <td>250823bea3d3396f</td>\n",
       "      <td>2.75162E+15</td>\n",
       "      <td>15.0</td>\n",
       "      <td>Home Routine</td>\n",
       "      <td>8/8/20 12:30</td>\n",
       "      <td>8/9/20 12:06</td>\n",
       "      <td>1.0</td>\n",
       "      <td>No</td>\n",
       "      <td>8/8/20 0:00</td>\n",
       "      <td>58</td>\n",
       "      <td>...</td>\n",
       "      <td>Moderate Sedation - by non-anesthesia staff only</td>\n",
       "      <td>NaN</td>\n",
       "      <td>NaN</td>\n",
       "      <td>Outpatient</td>\n",
       "      <td>Hospital Outpatient Surgery</td>\n",
       "      <td>CATHETERIZATION, HEART, BOTH LEFT AND RIGHT</td>\n",
       "      <td>NaN</td>\n",
       "      <td>NaN</td>\n",
       "      <td>NaN</td>\n",
       "      <td>NaN</td>\n",
       "    </tr>\n",
       "  </tbody>\n",
       "</table>\n",
       "<p>5 rows × 23 columns</p>\n",
       "</div>"
      ],
      "text/plain": [
       "                 LOG_ID               MRN  DISCH_DISP_C  \\\n",
       "43933  05774cae27b409e6  e859200ba4c3c045          69.0   \n",
       "25098  05774cae27b409e6  e859200ba4c3c045          69.0   \n",
       "25615  0c6b137659f5df02  fc63c830038a1f83          20.0   \n",
       "33456  0c6b137659f5df02  18d889ebcda81db9          20.0   \n",
       "61953  250823bea3d3396f       2.75162E+15          15.0   \n",
       "\n",
       "                                      DISCH_DISP HOSP_ADMSN_TIME  \\\n",
       "43933    Designated Disaster Alternate Care Site     1/9/21 2:12   \n",
       "25098  Designated Disaster Alternative Care Site     1/9/21 2:12   \n",
       "25615           Home Healthcare IP Admit Related   11/3/20 21:32   \n",
       "33456           Home Healthcare IP Admit Related   8/31/20 21:32   \n",
       "61953                               Home Routine    8/8/20 12:30   \n",
       "\n",
       "      HOSP_DISCH_TIME   LOS ICU_ADMIN_FLAG  SURGERY_DATE  BIRTH_DATE  ...  \\\n",
       "43933    2/13/21 9:40  35.0            Yes  1/14/21 0:00          39  ...   \n",
       "25098    2/13/21 9:40  35.0            Yes  1/14/21 0:00          39  ...   \n",
       "25615  11/14/20 11:45  11.0            Yes  11/9/20 0:00          53  ...   \n",
       "33456   9/11/20 11:45  11.0            Yes   9/6/20 0:00          53  ...   \n",
       "61953    8/9/20 12:06   1.0             No   8/8/20 0:00          58  ...   \n",
       "\n",
       "                                   PRIMARY_ANES_TYPE_NM  ASA_RATING_C  \\\n",
       "43933                                           General           4.0   \n",
       "25098                                           General           4.0   \n",
       "25615                                           General           4.0   \n",
       "33456                                           General           4.0   \n",
       "61953  Moderate Sedation - by non-anesthesia staff only           NaN   \n",
       "\n",
       "                   ASA_RATING PATIENT_CLASS_GROUP  \\\n",
       "43933  Incapacitating Disease           Inpatient   \n",
       "25098  Incapacitating Disease           Inpatient   \n",
       "25615  Incapacitating Disease           Inpatient   \n",
       "33456  Incapacitating Disease           Inpatient   \n",
       "61953                     NaN          Outpatient   \n",
       "\n",
       "                  PATIENT_CLASS_NM  \\\n",
       "43933          Inpatient Admission   \n",
       "25098          Inpatient Admission   \n",
       "25615          Inpatient Admission   \n",
       "33456          Inpatient Admission   \n",
       "61953  Hospital Outpatient Surgery   \n",
       "\n",
       "                              PRIMARY_PROCEDURE_NM     IN_OR_DTTM  \\\n",
       "43933              ORIF, FRACTURE, FEMUR, MIDSHAFT  1/14/21 13:25   \n",
       "25098              ORIF, FRACTURE, FEMUR, MIDSHAFT  1/14/21 13:25   \n",
       "25615                    REPLACEMENT, AORTIC VALVE   11/9/20 6:45   \n",
       "33456                    REPLACEMENT, AORTIC VALVE    9/6/20 6:45   \n",
       "61953  CATHETERIZATION, HEART, BOTH LEFT AND RIGHT            NaN   \n",
       "\n",
       "         OUT_OR_DTTM AN_START_DATETIME AN_STOP_DATETIME  \n",
       "43933  1/14/21 15:30     1/14/21 13:25    1/14/21 16:05  \n",
       "25098  1/14/21 15:30     1/14/21 13:25    1/14/21 16:05  \n",
       "25615  11/9/20 12:05      11/9/20 6:45    11/9/20 12:15  \n",
       "33456   9/6/20 12:05       9/6/20 6:45     9/6/20 12:15  \n",
       "61953            NaN               NaN              NaN  \n",
       "\n",
       "[5 rows x 23 columns]"
      ]
     },
     "execution_count": 251,
     "metadata": {},
     "output_type": "execute_result"
    }
   ],
   "source": [
    "# Find duplicate rows and mis-match rows in patient_information\n",
    "patient_info = patient_info.drop_duplicates()\n",
    "duplicate_rows = patient_info[patient_info.duplicated(subset=['LOG_ID'], keep=False)]\n",
    "sorted_duplicates = duplicate_rows.sort_values(by='LOG_ID')\n",
    "\n",
    "sorted_duplicates.head()"
   ]
  },
  {
   "cell_type": "markdown",
   "metadata": {},
   "source": [
    "The result shows that the data contain both duplicate values and mismatch between LOG_ID and MRN, so we need to use the table EPIC_MRN_PAT_ID.csv to clean the raw Data, and keep the true records"
   ]
  },
  {
   "cell_type": "code",
   "execution_count": 252,
   "metadata": {},
   "outputs": [],
   "source": [
    "def true_records (data,pat_id):\n",
    "   \n",
    "    data1 = data.merge(pat_id[['LOG_ID', 'MRN']], on='LOG_ID', how='inner', suffixes=('data', 'pat_id'))\n",
    "    data_filtered= data1[data1['MRNdata'] == data1['MRNpat_id']]\n",
    "    data_filtered = data_filtered.drop(columns=['MRNpat_id'])\n",
    "    data_filtered = data_filtered.rename(columns={'MRNdata': 'MRN'})\n",
    "    data2 = data_filtered.drop_duplicates()\n",
    "\n",
    "    return data2\n",
    "\n",
    "patient_info_cleaned= true_records(patient_info, patient_id)\n",
    "post_op_cleaned = true_records(post_op, patient_id)\n"
   ]
  },
  {
   "cell_type": "code",
   "execution_count": 253,
   "metadata": {},
   "outputs": [
    {
     "data": {
      "text/plain": [
       "Element_abbr\n",
       "AN Post-op Complications    95.805350\n",
       "Other                        1.234832\n",
       "Cardiovascular               0.951325\n",
       "Respiratory                  0.819021\n",
       "Airway                       0.418331\n",
       "Neurological                 0.166324\n",
       "Metabolic                    0.137344\n",
       "Injury/Infection             0.136084\n",
       "Administrative               0.134824\n",
       "Medication                   0.115923\n",
       "Regional                     0.070562\n",
       "Chronic Pain                 0.010080\n",
       "Name: count, dtype: float64"
      ]
     },
     "execution_count": 253,
     "metadata": {},
     "output_type": "execute_result"
    }
   ],
   "source": [
    "post_op = post_op_cleaned.copy()\n",
    "\n",
    "post_op_counts = post_op['Element_abbr'].value_counts()\n",
    "complication_percent = post_op_counts / len(post_op) * 100\n",
    "complication_percent"
   ]
  },
  {
   "cell_type": "code",
   "execution_count": 254,
   "metadata": {},
   "outputs": [
    {
     "data": {
      "text/html": [
       "<div>\n",
       "<style scoped>\n",
       "    .dataframe tbody tr th:only-of-type {\n",
       "        vertical-align: middle;\n",
       "    }\n",
       "\n",
       "    .dataframe tbody tr th {\n",
       "        vertical-align: top;\n",
       "    }\n",
       "\n",
       "    .dataframe thead th {\n",
       "        text-align: right;\n",
       "    }\n",
       "</style>\n",
       "<table border=\"1\" class=\"dataframe\">\n",
       "  <thead>\n",
       "    <tr style=\"text-align: right;\">\n",
       "      <th></th>\n",
       "      <th>LOG_ID</th>\n",
       "      <th>MRN</th>\n",
       "      <th>Element_Name</th>\n",
       "      <th>CONTEXT_NAME</th>\n",
       "      <th>Element_abbr</th>\n",
       "      <th>SMRTDTA_ELEM_VALUE</th>\n",
       "    </tr>\n",
       "  </thead>\n",
       "  <tbody>\n",
       "    <tr>\n",
       "      <th>28960</th>\n",
       "      <td>01dc302bc8104d42</td>\n",
       "      <td>40126677abeddb56</td>\n",
       "      <td>AN POST-OP COMPLICATION CARDIOVASCULAR</td>\n",
       "      <td>ENCOUNTER</td>\n",
       "      <td>Cardiovascular</td>\n",
       "      <td>Vascular Injury</td>\n",
       "    </tr>\n",
       "    <tr>\n",
       "      <th>59853</th>\n",
       "      <td>01dc302bc8104d42</td>\n",
       "      <td>40126677abeddb56</td>\n",
       "      <td>AN POST-OP COMPLICATION CARDIOVASCULAR</td>\n",
       "      <td>ENCOUNTER</td>\n",
       "      <td>Cardiovascular</td>\n",
       "      <td>Arrest (cardiac)</td>\n",
       "    </tr>\n",
       "    <tr>\n",
       "      <th>39245</th>\n",
       "      <td>027f8977776b8fb3</td>\n",
       "      <td>71d77695a69b26d2</td>\n",
       "      <td>AN POST-OP COMPLICATION CARDIOVASCULAR</td>\n",
       "      <td>ENCOUNTER</td>\n",
       "      <td>Cardiovascular</td>\n",
       "      <td>Instability (hemodynamic)</td>\n",
       "    </tr>\n",
       "    <tr>\n",
       "      <th>50713</th>\n",
       "      <td>027f8977776b8fb3</td>\n",
       "      <td>71d77695a69b26d2</td>\n",
       "      <td>AN POST-OP COMPLICATION CARDIOVASCULAR</td>\n",
       "      <td>ENCOUNTER</td>\n",
       "      <td>Cardiovascular</td>\n",
       "      <td>Hypotension (SBP&lt;80 for 10 min)</td>\n",
       "    </tr>\n",
       "    <tr>\n",
       "      <th>55643</th>\n",
       "      <td>02b5e918ead0f3f1</td>\n",
       "      <td>f523e63fb030f0fa</td>\n",
       "      <td>AN POST-OP COMPLICATION CARDIOVASCULAR</td>\n",
       "      <td>ENCOUNTER</td>\n",
       "      <td>Cardiovascular</td>\n",
       "      <td>Arrest (cardiac)</td>\n",
       "    </tr>\n",
       "  </tbody>\n",
       "</table>\n",
       "</div>"
      ],
      "text/plain": [
       "                 LOG_ID               MRN  \\\n",
       "28960  01dc302bc8104d42  40126677abeddb56   \n",
       "59853  01dc302bc8104d42  40126677abeddb56   \n",
       "39245  027f8977776b8fb3  71d77695a69b26d2   \n",
       "50713  027f8977776b8fb3  71d77695a69b26d2   \n",
       "55643  02b5e918ead0f3f1  f523e63fb030f0fa   \n",
       "\n",
       "                                 Element_Name CONTEXT_NAME    Element_abbr  \\\n",
       "28960  AN POST-OP COMPLICATION CARDIOVASCULAR    ENCOUNTER  Cardiovascular   \n",
       "59853  AN POST-OP COMPLICATION CARDIOVASCULAR    ENCOUNTER  Cardiovascular   \n",
       "39245  AN POST-OP COMPLICATION CARDIOVASCULAR    ENCOUNTER  Cardiovascular   \n",
       "50713  AN POST-OP COMPLICATION CARDIOVASCULAR    ENCOUNTER  Cardiovascular   \n",
       "55643  AN POST-OP COMPLICATION CARDIOVASCULAR    ENCOUNTER  Cardiovascular   \n",
       "\n",
       "                    SMRTDTA_ELEM_VALUE  \n",
       "28960                  Vascular Injury  \n",
       "59853                 Arrest (cardiac)  \n",
       "39245        Instability (hemodynamic)  \n",
       "50713  Hypotension (SBP<80 for 10 min)  \n",
       "55643                 Arrest (cardiac)  "
      ]
     },
     "execution_count": 254,
     "metadata": {},
     "output_type": "execute_result"
    }
   ],
   "source": [
    "# check the duplicate value details in post_operation_complications\n",
    "post_op_cardiac = post_op[post_op['Element_abbr'] == 'Cardiovascular']\n",
    "duplicate_rows = post_op_cardiac[post_op_cardiac.duplicated(subset=['LOG_ID','MRN'], keep=False)]\n",
    "sorted_duplicates = duplicate_rows.sort_values(by='LOG_ID')\n",
    "sorted_duplicates.head()\n",
    "\n"
   ]
  },
  {
   "cell_type": "markdown",
   "metadata": {},
   "source": [
    "The duplicate results shows that there are duplicate value for post_operation complications of Cardiovasular because there are different element of Cardiovasular. One patients could have more than one types cardiovasular complications after surgery."
   ]
  },
  {
   "cell_type": "markdown",
   "metadata": {},
   "source": [
    "## Patient Label"
   ]
  },
  {
   "cell_type": "markdown",
   "metadata": {},
   "source": [
    "### Identify Surgery that correlated with Cardiovascular"
   ]
  },
  {
   "cell_type": "code",
   "execution_count": 255,
   "metadata": {},
   "outputs": [
    {
     "name": "stdout",
     "output_type": "stream",
     "text": [
      "(504, 4)\n"
     ]
    },
    {
     "data": {
      "text/html": [
       "<div>\n",
       "<style scoped>\n",
       "    .dataframe tbody tr th:only-of-type {\n",
       "        vertical-align: middle;\n",
       "    }\n",
       "\n",
       "    .dataframe tbody tr th {\n",
       "        vertical-align: top;\n",
       "    }\n",
       "\n",
       "    .dataframe thead th {\n",
       "        text-align: right;\n",
       "    }\n",
       "</style>\n",
       "<table border=\"1\" class=\"dataframe\">\n",
       "  <thead>\n",
       "    <tr style=\"text-align: right;\">\n",
       "      <th></th>\n",
       "      <th>LOG_ID</th>\n",
       "      <th>MRN</th>\n",
       "      <th>Element_abbr</th>\n",
       "      <th>Cardiovascular</th>\n",
       "    </tr>\n",
       "  </thead>\n",
       "  <tbody>\n",
       "    <tr>\n",
       "      <th>205</th>\n",
       "      <td>0ecf38ed306338f6</td>\n",
       "      <td>4c29aee08612d793</td>\n",
       "      <td>Cardiovascular</td>\n",
       "      <td>1</td>\n",
       "    </tr>\n",
       "    <tr>\n",
       "      <th>219</th>\n",
       "      <td>595439a55deda0d5</td>\n",
       "      <td>71d77695a69b26d2</td>\n",
       "      <td>Cardiovascular</td>\n",
       "      <td>1</td>\n",
       "    </tr>\n",
       "    <tr>\n",
       "      <th>496</th>\n",
       "      <td>f8e8289e5b983a10</td>\n",
       "      <td>f523e63fb030f0fa</td>\n",
       "      <td>Cardiovascular</td>\n",
       "      <td>1</td>\n",
       "    </tr>\n",
       "    <tr>\n",
       "      <th>511</th>\n",
       "      <td>99d83372f55a8aeb</td>\n",
       "      <td>f523e63fb030f0fa</td>\n",
       "      <td>Cardiovascular</td>\n",
       "      <td>1</td>\n",
       "    </tr>\n",
       "    <tr>\n",
       "      <th>581</th>\n",
       "      <td>3bf060182acba73f</td>\n",
       "      <td>f523e63fb030f0fa</td>\n",
       "      <td>Cardiovascular</td>\n",
       "      <td>1</td>\n",
       "    </tr>\n",
       "  </tbody>\n",
       "</table>\n",
       "</div>"
      ],
      "text/plain": [
       "               LOG_ID               MRN    Element_abbr  Cardiovascular\n",
       "205  0ecf38ed306338f6  4c29aee08612d793  Cardiovascular               1\n",
       "219  595439a55deda0d5  71d77695a69b26d2  Cardiovascular               1\n",
       "496  f8e8289e5b983a10  f523e63fb030f0fa  Cardiovascular               1\n",
       "511  99d83372f55a8aeb  f523e63fb030f0fa  Cardiovascular               1\n",
       "581  3bf060182acba73f  f523e63fb030f0fa  Cardiovascular               1"
      ]
     },
     "execution_count": 255,
     "metadata": {},
     "output_type": "execute_result"
    }
   ],
   "source": [
    "post_op_cardiac = post_op_cardiac[['LOG_ID','MRN','Element_abbr']]\n",
    "post_op_cardiac = post_op_cardiac.drop_duplicates(subset=['LOG_ID','MRN'], keep='first')\n",
    "post_op_cardiac['Cardiovascular'] = 1\n",
    "print(post_op_cardiac.shape)\n",
    "post_op_cardiac.head() \n"
   ]
  },
  {
   "cell_type": "markdown",
   "metadata": {},
   "source": [
    "The output contain duplciate value of MRN which should be kept because we values train-data based on each individual surgery-presedure events instead of individual patients. "
   ]
  },
  {
   "cell_type": "code",
   "execution_count": 256,
   "metadata": {},
   "outputs": [
    {
     "name": "stdout",
     "output_type": "stream",
     "text": [
      "(64327, 3)\n"
     ]
    },
    {
     "data": {
      "text/html": [
       "<div>\n",
       "<style scoped>\n",
       "    .dataframe tbody tr th:only-of-type {\n",
       "        vertical-align: middle;\n",
       "    }\n",
       "\n",
       "    .dataframe tbody tr th {\n",
       "        vertical-align: top;\n",
       "    }\n",
       "\n",
       "    .dataframe thead th {\n",
       "        text-align: right;\n",
       "    }\n",
       "</style>\n",
       "<table border=\"1\" class=\"dataframe\">\n",
       "  <thead>\n",
       "    <tr style=\"text-align: right;\">\n",
       "      <th></th>\n",
       "      <th>LOG_ID</th>\n",
       "      <th>MRN</th>\n",
       "      <th>PRIMARY_PROCEDURE_NM</th>\n",
       "    </tr>\n",
       "  </thead>\n",
       "  <tbody>\n",
       "    <tr>\n",
       "      <th>0</th>\n",
       "      <td>cd1636c6279d73a0</td>\n",
       "      <td>2e92522a5f2a2a22</td>\n",
       "      <td>INSERTION, PUBOVAGINAL SLING, WITH CYSTOSCOPY</td>\n",
       "    </tr>\n",
       "    <tr>\n",
       "      <th>1</th>\n",
       "      <td>fc53c06ee2cfe438</td>\n",
       "      <td>b7a91e623d957d8f</td>\n",
       "      <td>GI EGD DILATION</td>\n",
       "    </tr>\n",
       "    <tr>\n",
       "      <th>2</th>\n",
       "      <td>2f0090c47da34608</td>\n",
       "      <td>b68d6c7198f30f73</td>\n",
       "      <td>CRANIECTOMY</td>\n",
       "    </tr>\n",
       "    <tr>\n",
       "      <th>3</th>\n",
       "      <td>6d3b621880c6ced4</td>\n",
       "      <td>46aa48e89b9c50e8</td>\n",
       "      <td>REVISION, RECONSTRUCTION, BREAST</td>\n",
       "    </tr>\n",
       "    <tr>\n",
       "      <th>4</th>\n",
       "      <td>82f89e10f2855420</td>\n",
       "      <td>c2756216cc89b795</td>\n",
       "      <td>REVISION, RECONSTRUCTION, BREAST</td>\n",
       "    </tr>\n",
       "  </tbody>\n",
       "</table>\n",
       "</div>"
      ],
      "text/plain": [
       "             LOG_ID               MRN  \\\n",
       "0  cd1636c6279d73a0  2e92522a5f2a2a22   \n",
       "1  fc53c06ee2cfe438  b7a91e623d957d8f   \n",
       "2  2f0090c47da34608  b68d6c7198f30f73   \n",
       "3  6d3b621880c6ced4  46aa48e89b9c50e8   \n",
       "4  82f89e10f2855420  c2756216cc89b795   \n",
       "\n",
       "                            PRIMARY_PROCEDURE_NM  \n",
       "0  INSERTION, PUBOVAGINAL SLING, WITH CYSTOSCOPY  \n",
       "1                                GI EGD DILATION  \n",
       "2                                    CRANIECTOMY  \n",
       "3               REVISION, RECONSTRUCTION, BREAST  \n",
       "4               REVISION, RECONSTRUCTION, BREAST  "
      ]
     },
     "execution_count": 256,
     "metadata": {},
     "output_type": "execute_result"
    }
   ],
   "source": [
    "patient_info = patient_info_cleaned.copy()\n",
    "patient_surgery_list = patient_info[['LOG_ID','MRN','PRIMARY_PROCEDURE_NM']]\n",
    "patient_surgery_list = patient_surgery_list.drop_duplicates()\n",
    "print(patient_surgery_list.shape)\n",
    "patient_surgery_list.head()"
   ]
  },
  {
   "cell_type": "code",
   "execution_count": 257,
   "metadata": {},
   "outputs": [
    {
     "name": "stdout",
     "output_type": "stream",
     "text": [
      "(504, 5)\n"
     ]
    },
    {
     "data": {
      "text/html": [
       "<div>\n",
       "<style scoped>\n",
       "    .dataframe tbody tr th:only-of-type {\n",
       "        vertical-align: middle;\n",
       "    }\n",
       "\n",
       "    .dataframe tbody tr th {\n",
       "        vertical-align: top;\n",
       "    }\n",
       "\n",
       "    .dataframe thead th {\n",
       "        text-align: right;\n",
       "    }\n",
       "</style>\n",
       "<table border=\"1\" class=\"dataframe\">\n",
       "  <thead>\n",
       "    <tr style=\"text-align: right;\">\n",
       "      <th></th>\n",
       "      <th>LOG_ID</th>\n",
       "      <th>MRN</th>\n",
       "      <th>Element_abbr</th>\n",
       "      <th>Cardiovascular</th>\n",
       "      <th>PRIMARY_PROCEDURE_NM</th>\n",
       "    </tr>\n",
       "  </thead>\n",
       "  <tbody>\n",
       "    <tr>\n",
       "      <th>0</th>\n",
       "      <td>0ecf38ed306338f6</td>\n",
       "      <td>4c29aee08612d793</td>\n",
       "      <td>Cardiovascular</td>\n",
       "      <td>1</td>\n",
       "      <td>DEBRIDEMENT, WITH SPLIT-THICKNESS SKIN GRAFT A...</td>\n",
       "    </tr>\n",
       "    <tr>\n",
       "      <th>1</th>\n",
       "      <td>595439a55deda0d5</td>\n",
       "      <td>71d77695a69b26d2</td>\n",
       "      <td>Cardiovascular</td>\n",
       "      <td>1</td>\n",
       "      <td>RESECTION, RECTUM, LOW ANTERIOR</td>\n",
       "    </tr>\n",
       "    <tr>\n",
       "      <th>2</th>\n",
       "      <td>f8e8289e5b983a10</td>\n",
       "      <td>f523e63fb030f0fa</td>\n",
       "      <td>Cardiovascular</td>\n",
       "      <td>1</td>\n",
       "      <td>IRRIGATION, WOUND, ABDOMEN</td>\n",
       "    </tr>\n",
       "    <tr>\n",
       "      <th>3</th>\n",
       "      <td>99d83372f55a8aeb</td>\n",
       "      <td>f523e63fb030f0fa</td>\n",
       "      <td>Cardiovascular</td>\n",
       "      <td>1</td>\n",
       "      <td>LAPAROTOMY, EXPLORATORY</td>\n",
       "    </tr>\n",
       "    <tr>\n",
       "      <th>4</th>\n",
       "      <td>3bf060182acba73f</td>\n",
       "      <td>f523e63fb030f0fa</td>\n",
       "      <td>Cardiovascular</td>\n",
       "      <td>1</td>\n",
       "      <td>LAPAROTOMY, EXPLORATORY</td>\n",
       "    </tr>\n",
       "  </tbody>\n",
       "</table>\n",
       "</div>"
      ],
      "text/plain": [
       "             LOG_ID               MRN    Element_abbr  Cardiovascular  \\\n",
       "0  0ecf38ed306338f6  4c29aee08612d793  Cardiovascular               1   \n",
       "1  595439a55deda0d5  71d77695a69b26d2  Cardiovascular               1   \n",
       "2  f8e8289e5b983a10  f523e63fb030f0fa  Cardiovascular               1   \n",
       "3  99d83372f55a8aeb  f523e63fb030f0fa  Cardiovascular               1   \n",
       "4  3bf060182acba73f  f523e63fb030f0fa  Cardiovascular               1   \n",
       "\n",
       "                                PRIMARY_PROCEDURE_NM  \n",
       "0  DEBRIDEMENT, WITH SPLIT-THICKNESS SKIN GRAFT A...  \n",
       "1                    RESECTION, RECTUM, LOW ANTERIOR  \n",
       "2                         IRRIGATION, WOUND, ABDOMEN  \n",
       "3                            LAPAROTOMY, EXPLORATORY  \n",
       "4                            LAPAROTOMY, EXPLORATORY  "
      ]
     },
     "execution_count": 257,
     "metadata": {},
     "output_type": "execute_result"
    }
   ],
   "source": [
    "surgery_post_cardic = pd.merge(post_op_cardiac,patient_surgery_list, on=['LOG_ID','MRN'], how='inner')\n",
    "print(surgery_post_cardic.shape)\n",
    "surgery_post_cardic.head()"
   ]
  },
  {
   "cell_type": "code",
   "execution_count": 258,
   "metadata": {},
   "outputs": [
    {
     "name": "stdout",
     "output_type": "stream",
     "text": [
      "PRIMARY_PROCEDURE_NM\n",
      "LAPAROTOMY, EXPLORATORY                                            4.960317\n",
      "CATHETERIZATION, HEART, LEFT, WITH INTERVENTION IF INDICATED       4.761905\n",
      "IRRIGATION AND DEBRIDEMENT, WOUND                                  3.968254\n",
      "DEBRIDEMENT, WOUND                                                 1.785714\n",
      "TRACHEOSTOMY                                                       1.785714\n",
      "                                                                     ...   \n",
      "REPAIR, HERNIA, INCISIONAL                                         0.198413\n",
      "ANGIOGRAM, WITH ANGIOPLASTY                                        0.198413\n",
      "CYSTECTOMY, TOTAL, WITH ILEAL CONDUIT CONSTRUCTION                 0.198413\n",
      "INSERTION, INTERNAL PULSE GENERATOR, FOR DEEP BRAIN STIMULATION    0.198413\n",
      "PROCTOCOLECTOMY, TOTAL, LAPAROSCOPIC, ROBOT-ASSISTED               0.198413\n",
      "Name: count, Length: 218, dtype: float64\n"
     ]
    }
   ],
   "source": [
    "# calculate percentage of ratio\n",
    "procedure_counts = surgery_post_cardic['PRIMARY_PROCEDURE_NM'].value_counts()\n",
    "procedure_percent = procedure_counts / len(surgery_post_cardic) * 100\n",
    "print(procedure_percent)"
   ]
  },
  {
   "cell_type": "code",
   "execution_count": 259,
   "metadata": {},
   "outputs": [
    {
     "name": "stdout",
     "output_type": "stream",
     "text": [
      "(31764, 3)\n"
     ]
    },
    {
     "data": {
      "text/html": [
       "<div>\n",
       "<style scoped>\n",
       "    .dataframe tbody tr th:only-of-type {\n",
       "        vertical-align: middle;\n",
       "    }\n",
       "\n",
       "    .dataframe tbody tr th {\n",
       "        vertical-align: top;\n",
       "    }\n",
       "\n",
       "    .dataframe thead th {\n",
       "        text-align: right;\n",
       "    }\n",
       "</style>\n",
       "<table border=\"1\" class=\"dataframe\">\n",
       "  <thead>\n",
       "    <tr style=\"text-align: right;\">\n",
       "      <th></th>\n",
       "      <th>LOG_ID</th>\n",
       "      <th>MRN</th>\n",
       "      <th>PRIMARY_PROCEDURE_NM</th>\n",
       "    </tr>\n",
       "  </thead>\n",
       "  <tbody>\n",
       "    <tr>\n",
       "      <th>2</th>\n",
       "      <td>2f0090c47da34608</td>\n",
       "      <td>b68d6c7198f30f73</td>\n",
       "      <td>CRANIECTOMY</td>\n",
       "    </tr>\n",
       "    <tr>\n",
       "      <th>5</th>\n",
       "      <td>8778901eeb9b6166</td>\n",
       "      <td>2e34dcb0791b8c0d</td>\n",
       "      <td>EGD (ESOPHAGOGASTRODUODENOSCOPY)</td>\n",
       "    </tr>\n",
       "    <tr>\n",
       "      <th>11</th>\n",
       "      <td>d754f06a7d973a26</td>\n",
       "      <td>0b8de903ea63082a</td>\n",
       "      <td>EMBOLIZATION, BLOOD VESSEL, USING COIL</td>\n",
       "    </tr>\n",
       "    <tr>\n",
       "      <th>13</th>\n",
       "      <td>0b19da86b660bd29</td>\n",
       "      <td>8b0d3e057187f0b4</td>\n",
       "      <td>EGD, WITH BIOPSY</td>\n",
       "    </tr>\n",
       "    <tr>\n",
       "      <th>14</th>\n",
       "      <td>349804b38ae6b8a4</td>\n",
       "      <td>f0fc2f475e6141f7</td>\n",
       "      <td>ARTHROPLASTY, KNEE</td>\n",
       "    </tr>\n",
       "  </tbody>\n",
       "</table>\n",
       "</div>"
      ],
      "text/plain": [
       "              LOG_ID               MRN                    PRIMARY_PROCEDURE_NM\n",
       "2   2f0090c47da34608  b68d6c7198f30f73                             CRANIECTOMY\n",
       "5   8778901eeb9b6166  2e34dcb0791b8c0d        EGD (ESOPHAGOGASTRODUODENOSCOPY)\n",
       "11  d754f06a7d973a26  0b8de903ea63082a  EMBOLIZATION, BLOOD VESSEL, USING COIL\n",
       "13  0b19da86b660bd29  8b0d3e057187f0b4                        EGD, WITH BIOPSY\n",
       "14  349804b38ae6b8a4  f0fc2f475e6141f7                      ARTHROPLASTY, KNEE"
      ]
     },
     "execution_count": 259,
     "metadata": {},
     "output_type": "execute_result"
    }
   ],
   "source": [
    "# Identify the number of patients who have did those surgeries without any complications\n",
    "surgery_list = surgery_post_cardic['PRIMARY_PROCEDURE_NM'].unique()\n",
    "patient_list = patient_surgery_list[patient_surgery_list['PRIMARY_PROCEDURE_NM'].isin(surgery_list)]\n",
    "\n",
    "print(patient_list.shape)\n",
    "patient_list.head()"
   ]
  },
  {
   "cell_type": "markdown",
   "metadata": {},
   "source": [
    "Check how many patients have post-op complication "
   ]
  },
  {
   "cell_type": "code",
   "execution_count": 260,
   "metadata": {},
   "outputs": [
    {
     "name": "stdout",
     "output_type": "stream",
     "text": [
      "(31764, 4)\n",
      "(31764, 6)\n",
      "(504, 6)\n",
      "(1405, 6)\n"
     ]
    },
    {
     "data": {
      "text/html": [
       "<div>\n",
       "<style scoped>\n",
       "    .dataframe tbody tr th:only-of-type {\n",
       "        vertical-align: middle;\n",
       "    }\n",
       "\n",
       "    .dataframe tbody tr th {\n",
       "        vertical-align: top;\n",
       "    }\n",
       "\n",
       "    .dataframe thead th {\n",
       "        text-align: right;\n",
       "    }\n",
       "</style>\n",
       "<table border=\"1\" class=\"dataframe\">\n",
       "  <thead>\n",
       "    <tr style=\"text-align: right;\">\n",
       "      <th></th>\n",
       "      <th>LOG_ID</th>\n",
       "      <th>MRN</th>\n",
       "      <th>PRIMARY_PROCEDURE_NM</th>\n",
       "      <th>Have complication</th>\n",
       "      <th>Element_abbr</th>\n",
       "      <th>Cardiovascular</th>\n",
       "    </tr>\n",
       "  </thead>\n",
       "  <tbody>\n",
       "    <tr>\n",
       "      <th>2</th>\n",
       "      <td>d754f06a7d973a26</td>\n",
       "      <td>0b8de903ea63082a</td>\n",
       "      <td>EMBOLIZATION, BLOOD VESSEL, USING COIL</td>\n",
       "      <td>NaN</td>\n",
       "      <td>NaN</td>\n",
       "      <td>NaN</td>\n",
       "    </tr>\n",
       "    <tr>\n",
       "      <th>4</th>\n",
       "      <td>349804b38ae6b8a4</td>\n",
       "      <td>f0fc2f475e6141f7</td>\n",
       "      <td>ARTHROPLASTY, KNEE</td>\n",
       "      <td>NaN</td>\n",
       "      <td>NaN</td>\n",
       "      <td>NaN</td>\n",
       "    </tr>\n",
       "    <tr>\n",
       "      <th>7</th>\n",
       "      <td>5a95970d5c8fc355</td>\n",
       "      <td>0a8b72c1cec4ae47</td>\n",
       "      <td>FUSION, SPINE, LUMBAR, ANTERIOR APPROACH</td>\n",
       "      <td>NaN</td>\n",
       "      <td>NaN</td>\n",
       "      <td>NaN</td>\n",
       "    </tr>\n",
       "    <tr>\n",
       "      <th>8</th>\n",
       "      <td>138d44a06cf4b57f</td>\n",
       "      <td>0a8b72c1cec4ae47</td>\n",
       "      <td>LAMINECTOMY, THORACIC OR LUMBAR, POSTERIOR APP...</td>\n",
       "      <td>NaN</td>\n",
       "      <td>NaN</td>\n",
       "      <td>NaN</td>\n",
       "    </tr>\n",
       "    <tr>\n",
       "      <th>10</th>\n",
       "      <td>82372dc4703ea1b0</td>\n",
       "      <td>e0cb9244fedd1ac7</td>\n",
       "      <td>CRANIECTOMY</td>\n",
       "      <td>NaN</td>\n",
       "      <td>NaN</td>\n",
       "      <td>NaN</td>\n",
       "    </tr>\n",
       "  </tbody>\n",
       "</table>\n",
       "</div>"
      ],
      "text/plain": [
       "              LOG_ID               MRN  \\\n",
       "2   d754f06a7d973a26  0b8de903ea63082a   \n",
       "4   349804b38ae6b8a4  f0fc2f475e6141f7   \n",
       "7   5a95970d5c8fc355  0a8b72c1cec4ae47   \n",
       "8   138d44a06cf4b57f  0a8b72c1cec4ae47   \n",
       "10  82372dc4703ea1b0  e0cb9244fedd1ac7   \n",
       "\n",
       "                                 PRIMARY_PROCEDURE_NM  Have complication  \\\n",
       "2              EMBOLIZATION, BLOOD VESSEL, USING COIL                NaN   \n",
       "4                                  ARTHROPLASTY, KNEE                NaN   \n",
       "7            FUSION, SPINE, LUMBAR, ANTERIOR APPROACH                NaN   \n",
       "8   LAMINECTOMY, THORACIC OR LUMBAR, POSTERIOR APP...                NaN   \n",
       "10                                        CRANIECTOMY                NaN   \n",
       "\n",
       "   Element_abbr  Cardiovascular  \n",
       "2           NaN             NaN  \n",
       "4           NaN             NaN  \n",
       "7           NaN             NaN  \n",
       "8           NaN             NaN  \n",
       "10          NaN             NaN  "
      ]
     },
     "execution_count": 260,
     "metadata": {},
     "output_type": "execute_result"
    }
   ],
   "source": [
    "post_op['Have complication']  = 1\n",
    "post_op_complication = post_op[['LOG_ID','MRN','Have complication']]\n",
    "post_op_complication = post_op_complication.drop_duplicates(subset=['LOG_ID','MRN'], keep='first')\n",
    "\n",
    "train_data1 = pd.merge(patient_list, post_op_complication, on=['LOG_ID','MRN'], how='left')\n",
    "train_data2 = pd.merge(train_data1, post_op_cardiac, on=['LOG_ID','MRN'], how='left')\n",
    "\n",
    "print(train_data1.shape)\n",
    "print(train_data2.shape)\n",
    "patient_with_cardiovascular = train_data2[train_data2['Cardiovascular'] == 1]\n",
    "patient_without_complication = train_data2[train_data2['Have complication'] != 1]\n",
    "\n",
    "\n",
    "print(patient_with_cardiovascular.shape)\n",
    "print(patient_without_complication.shape)\n",
    "patient_without_complication.head()\n"
   ]
  },
  {
   "cell_type": "code",
   "execution_count": 261,
   "metadata": {},
   "outputs": [
    {
     "data": {
      "text/plain": [
       "PRIMARY_PROCEDURE_NM\n",
       "CHOLECYSTECTOMY, LAPAROSCOPIC                                             6.049822\n",
       "DA VINCI XI- PROSTATECTOMY, RADICAL, ROBOT-ASSISTED                       3.629893\n",
       "LAPAROSCOPY, DIAGNOSTIC                                                   3.487544\n",
       "HYSTERECTOMY, TOTAL, ABDOMINAL, ROBOT-ASSISTED, LAPAROSCOPIC, WITH BSO    3.202847\n",
       "ARTHROPLASTY, KNEE                                                        2.918149\n",
       "                                                                            ...   \n",
       "EXPLORATION, NECK                                                         0.071174\n",
       "LAPAROSCOPIC REPAIR, PARAESOPHAGEAL HERNIA                                0.071174\n",
       "REPLACEMENT, NEUROSTIMULATOR PULSE GENERATOR                              0.071174\n",
       "EVISCERATION, OCULAR CONTENTS                                             0.071174\n",
       "UNLISTED PROCEDURE, ACCESSORY SINUSES                                     0.071174\n",
       "Name: count, Length: 159, dtype: float64"
      ]
     },
     "execution_count": 261,
     "metadata": {},
     "output_type": "execute_result"
    }
   ],
   "source": [
    "counts = patient_without_complication['PRIMARY_PROCEDURE_NM'].value_counts()\n",
    "percent = counts / len(patient_without_complication) * 100\n",
    "percent"
   ]
  },
  {
   "cell_type": "code",
   "execution_count": 262,
   "metadata": {},
   "outputs": [],
   "source": [
    "data_labeled = pd.concat([patient_with_cardiovascular, patient_without_complication])\n",
    "data_labeled= data_labeled[['LOG_ID','MRN','Cardiovascular']].reset_index(drop=True)\n",
    "data_labeled['Cardiovascular'] = data_labeled['Cardiovascular'].fillna(0)"
   ]
  },
  {
   "cell_type": "code",
   "execution_count": 263,
   "metadata": {},
   "outputs": [
    {
     "name": "stdout",
     "output_type": "stream",
     "text": [
      "(1909, 3)\n",
      "             LOG_ID               MRN  Cardiovascular\n",
      "0  e384b4cda06313fc  71d77695a69b26d2             1.0\n",
      "1  8c615f6805325d06  692072abc16db15d             1.0\n",
      "2  c3b15cce1c3b02da  24cfd10e4aeead78             1.0\n",
      "3  0ecf38ed306338f6  4c29aee08612d793             1.0\n",
      "4  595439a55deda0d5  71d77695a69b26d2             1.0\n"
     ]
    }
   ],
   "source": [
    "print(data_labeled.shape)\n",
    "print(data_labeled.head())"
   ]
  },
  {
   "cell_type": "code",
   "execution_count": 264,
   "metadata": {},
   "outputs": [
    {
     "name": "stdout",
     "output_type": "stream",
     "text": [
      "(64328, 3)\n"
     ]
    },
    {
     "data": {
      "text/html": [
       "<div>\n",
       "<style scoped>\n",
       "    .dataframe tbody tr th:only-of-type {\n",
       "        vertical-align: middle;\n",
       "    }\n",
       "\n",
       "    .dataframe tbody tr th {\n",
       "        vertical-align: top;\n",
       "    }\n",
       "\n",
       "    .dataframe thead th {\n",
       "        text-align: right;\n",
       "    }\n",
       "</style>\n",
       "<table border=\"1\" class=\"dataframe\">\n",
       "  <thead>\n",
       "    <tr style=\"text-align: right;\">\n",
       "      <th></th>\n",
       "      <th>LOG_ID</th>\n",
       "      <th>MRN</th>\n",
       "      <th>PRIMARY_ANES_TYPE_NM</th>\n",
       "    </tr>\n",
       "  </thead>\n",
       "  <tbody>\n",
       "    <tr>\n",
       "      <th>0</th>\n",
       "      <td>cd1636c6279d73a0</td>\n",
       "      <td>2e92522a5f2a2a22</td>\n",
       "      <td>General</td>\n",
       "    </tr>\n",
       "    <tr>\n",
       "      <th>1</th>\n",
       "      <td>fc53c06ee2cfe438</td>\n",
       "      <td>b7a91e623d957d8f</td>\n",
       "      <td>General</td>\n",
       "    </tr>\n",
       "    <tr>\n",
       "      <th>2</th>\n",
       "      <td>2f0090c47da34608</td>\n",
       "      <td>b68d6c7198f30f73</td>\n",
       "      <td>General</td>\n",
       "    </tr>\n",
       "    <tr>\n",
       "      <th>3</th>\n",
       "      <td>6d3b621880c6ced4</td>\n",
       "      <td>46aa48e89b9c50e8</td>\n",
       "      <td>General</td>\n",
       "    </tr>\n",
       "    <tr>\n",
       "      <th>4</th>\n",
       "      <td>82f89e10f2855420</td>\n",
       "      <td>c2756216cc89b795</td>\n",
       "      <td>General</td>\n",
       "    </tr>\n",
       "  </tbody>\n",
       "</table>\n",
       "</div>"
      ],
      "text/plain": [
       "             LOG_ID               MRN PRIMARY_ANES_TYPE_NM\n",
       "0  cd1636c6279d73a0  2e92522a5f2a2a22              General\n",
       "1  fc53c06ee2cfe438  b7a91e623d957d8f              General\n",
       "2  2f0090c47da34608  b68d6c7198f30f73              General\n",
       "3  6d3b621880c6ced4  46aa48e89b9c50e8              General\n",
       "4  82f89e10f2855420  c2756216cc89b795              General"
      ]
     },
     "execution_count": 264,
     "metadata": {},
     "output_type": "execute_result"
    }
   ],
   "source": [
    "ASA_general = patient_info[['LOG_ID','MRN','PRIMARY_ANES_TYPE_NM']]\n",
    "ASA_general = ASA_general.drop_duplicates()\n",
    "print(ASA_general.shape)\n",
    "ASA_general.head()"
   ]
  },
  {
   "cell_type": "code",
   "execution_count": 265,
   "metadata": {},
   "outputs": [
    {
     "name": "stdout",
     "output_type": "stream",
     "text": [
      "(504, 7)\n",
      "(1405, 7)\n"
     ]
    }
   ],
   "source": [
    "cardiac_patient = pd.merge(patient_with_cardiovascular, ASA_general, on=['LOG_ID','MRN'], how='inner')\n",
    "without_complication = pd.merge(patient_without_complication, ASA_general, on=['LOG_ID','MRN'], how='inner')\n",
    "\n",
    "print(cardiac_patient.shape)\n",
    "print(without_complication.shape)"
   ]
  },
  {
   "cell_type": "code",
   "execution_count": 266,
   "metadata": {},
   "outputs": [
    {
     "data": {
      "text/plain": [
       "PRIMARY_ANES_TYPE_NM\n",
       "General                                             78.968254\n",
       "Moderate Sedation - by non-anesthesia staff only     7.936508\n",
       "Monitored Anesthesia Care (MAC)                      6.944444\n",
       "Regional                                             3.571429\n",
       "Epidural                                             1.190476\n",
       "Local                                                0.595238\n",
       "Spinal                                               0.198413\n",
       "Choice Per Patient on Day of Surgery                 0.198413\n",
       "Name: count, dtype: float64"
      ]
     },
     "execution_count": 266,
     "metadata": {},
     "output_type": "execute_result"
    }
   ],
   "source": [
    "counts_cardiac = cardiac_patient['PRIMARY_ANES_TYPE_NM'].value_counts()\n",
    "percent_cardiac = counts_cardiac / len(cardiac_patient) * 100  \n",
    "percent_cardiac"
   ]
  },
  {
   "cell_type": "code",
   "execution_count": 267,
   "metadata": {},
   "outputs": [
    {
     "data": {
      "text/plain": [
       "PRIMARY_ANES_TYPE_NM\n",
       "General                                             85.836299\n",
       "Monitored Anesthesia Care (MAC)                      4.982206\n",
       "Moderate Sedation - by non-anesthesia staff only     4.412811\n",
       "Regional                                             1.352313\n",
       "Local                                                0.711744\n",
       "Monitored Anesthesia Care (MAC)                      0.640569\n",
       "Spinal                                               0.498221\n",
       "Choice Per Patient on Day of Surgery                 0.071174\n",
       "Epidural                                             0.071174\n",
       "Name: count, dtype: float64"
      ]
     },
     "execution_count": 267,
     "metadata": {},
     "output_type": "execute_result"
    }
   ],
   "source": [
    "counts_without_complication = without_complication['PRIMARY_ANES_TYPE_NM'].value_counts() \n",
    "percent_without = counts_without_complication / len(without_complication) * 100\n",
    "percent_without"
   ]
  },
  {
   "cell_type": "markdown",
   "metadata": {},
   "source": [
    "Based on the records, 78.9% of patients have cardiovscular used general Anesthesia and 85% of patients who didn't have any post-operation complications have used general anesthesis. Since signal of ECG is an key factor of identify cardiovscular and not all of the patients will using ECG monitor during the surgery. Therefore, we will filtered the patients dataset based on primary_anes_type since patients undergoing general anesthesia will be monitored using an ECG machine to track heart activity."
   ]
  },
  {
   "cell_type": "code",
   "execution_count": 268,
   "metadata": {},
   "outputs": [
    {
     "name": "stdout",
     "output_type": "stream",
     "text": [
      "(1604, 3)\n"
     ]
    },
    {
     "data": {
      "text/html": [
       "<div>\n",
       "<style scoped>\n",
       "    .dataframe tbody tr th:only-of-type {\n",
       "        vertical-align: middle;\n",
       "    }\n",
       "\n",
       "    .dataframe tbody tr th {\n",
       "        vertical-align: top;\n",
       "    }\n",
       "\n",
       "    .dataframe thead th {\n",
       "        text-align: right;\n",
       "    }\n",
       "</style>\n",
       "<table border=\"1\" class=\"dataframe\">\n",
       "  <thead>\n",
       "    <tr style=\"text-align: right;\">\n",
       "      <th></th>\n",
       "      <th>LOG_ID</th>\n",
       "      <th>MRN</th>\n",
       "      <th>Cardiovascular</th>\n",
       "    </tr>\n",
       "  </thead>\n",
       "  <tbody>\n",
       "    <tr>\n",
       "      <th>1</th>\n",
       "      <td>8c615f6805325d06</td>\n",
       "      <td>692072abc16db15d</td>\n",
       "      <td>1.0</td>\n",
       "    </tr>\n",
       "    <tr>\n",
       "      <th>3</th>\n",
       "      <td>0ecf38ed306338f6</td>\n",
       "      <td>4c29aee08612d793</td>\n",
       "      <td>1.0</td>\n",
       "    </tr>\n",
       "    <tr>\n",
       "      <th>4</th>\n",
       "      <td>595439a55deda0d5</td>\n",
       "      <td>71d77695a69b26d2</td>\n",
       "      <td>1.0</td>\n",
       "    </tr>\n",
       "    <tr>\n",
       "      <th>5</th>\n",
       "      <td>36662c223daeac3a</td>\n",
       "      <td>08b0d6a24cf382ad</td>\n",
       "      <td>1.0</td>\n",
       "    </tr>\n",
       "    <tr>\n",
       "      <th>6</th>\n",
       "      <td>1383c875d3b6ffbd</td>\n",
       "      <td>4c29aee08612d793</td>\n",
       "      <td>1.0</td>\n",
       "    </tr>\n",
       "  </tbody>\n",
       "</table>\n",
       "</div>"
      ],
      "text/plain": [
       "             LOG_ID               MRN  Cardiovascular\n",
       "1  8c615f6805325d06  692072abc16db15d             1.0\n",
       "3  0ecf38ed306338f6  4c29aee08612d793             1.0\n",
       "4  595439a55deda0d5  71d77695a69b26d2             1.0\n",
       "5  36662c223daeac3a  08b0d6a24cf382ad             1.0\n",
       "6  1383c875d3b6ffbd  4c29aee08612d793             1.0"
      ]
     },
     "execution_count": 268,
     "metadata": {},
     "output_type": "execute_result"
    }
   ],
   "source": [
    "patient_general = pd.merge(data_labeled, ASA_general, on=['LOG_ID','MRN'], how='left')\n",
    "train_data = patient_general[patient_general['PRIMARY_ANES_TYPE_NM'] == 'General']\n",
    "train_data = train_data.drop(columns=['PRIMARY_ANES_TYPE_NM'])\n",
    "\n",
    "print(train_data.shape) \n",
    "train_data.head()"
   ]
  },
  {
   "cell_type": "code",
   "execution_count": 269,
   "metadata": {},
   "outputs": [],
   "source": [
    "#file_path = r'C:\\Users\\rodge\\OneDrive\\Desktop\\SML\\Group Project\\comp90051\\data\\processedData\\trainData_label.csv'\n",
    "#train_data.to_csv(file_path, index=False)"
   ]
  },
  {
   "cell_type": "code",
   "execution_count": 270,
   "metadata": {},
   "outputs": [
    {
     "data": {
      "image/png": "[encoded data removed]",
      "text/plain": [
       "<Figure size 640x480 with 1 Axes>"
      ]
     },
     "metadata": {},
     "output_type": "display_data"
    }
   ],
   "source": [
    "counts = train_data['Cardiovascular'].value_counts()\n",
    "\n",
    "# 画饼图\n",
    "plt.pie(counts, labels=['0', '1'], autopct='%1.1f%%', startangle=90, colors=['lightblue', 'lightcoral'])\n",
    "plt.title('Cardiovascular 0 vs 1 Proportion')\n",
    "plt.axis('equal') \n",
    "plt.show()"
   ]
  },
  {
   "cell_type": "code",
   "execution_count": null,
   "metadata": {},
   "outputs": [],
   "source": []
  }
 ],
 "metadata": {
  "language_info": {
   "name": "python"
  }
 },
 "nbformat": 4,
 "nbformat_minor": 2
}
