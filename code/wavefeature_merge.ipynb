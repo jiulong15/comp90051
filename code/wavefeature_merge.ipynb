{
 "cells": [
  {
   "cell_type": "code",
   "execution_count": 34,
   "id": "f64c9bd2",
   "metadata": {},
   "outputs": [],
   "source": [
    "import pandas as pd\n",
    "df_original = pd.read_csv('train_data.csv')\n",
    "df_wave = pd.read_csv('waveform_features.csv')\n",
    "# print(df_original)\n",
    "# print(df_wave)"
   ]
  },
  {
   "cell_type": "code",
   "execution_count": null,
   "id": "f7b644a9",
   "metadata": {},
   "outputs": [],
   "source": []
  },
  {
   "cell_type": "code",
   "execution_count": 35,
   "id": "8c1fe051",
   "metadata": {},
   "outputs": [],
   "source": [
    "df_merged = pd.merge(df_original, df_wave, on='LOG_ID', how='left')\n",
    "# 查看融合后的 DataFrame\n",
    "# print(df_merged)"
   ]
  },
  {
   "cell_type": "code",
   "execution_count": 36,
   "id": "c7a2f97d",
   "metadata": {},
   "outputs": [
    {
     "name": "stdout",
     "output_type": "stream",
     "text": [
      "             LOG_ID            PAT_ID               MRN  Cardiovascular   LOS  \\\n",
      "0  d754f06a7d973a26  837532f458d9c660  0b8de903ea63082a             0.0   1.0   \n",
      "1  5a95970d5c8fc355  fd18a41f136ed278  0a8b72c1cec4ae47             0.0  10.0   \n",
      "2  138d44a06cf4b57f  fd18a41f136ed278  0a8b72c1cec4ae47             0.0  10.0   \n",
      "3  82372dc4703ea1b0  648781c95d863ec6  e0cb9244fedd1ac7             0.0   3.0   \n",
      "4  4b6aabaf62e85c0a  d1d7b9ddc4962cdf  3918b79e03cefe27             0.0   3.0   \n",
      "\n",
      "   ICU_ADMIN_FLAG      HEIGHT    WEIGHT  SEX  ASA_RATING_C  ...  \\\n",
      "0               0  187.960000   92.6991    1           2.0  ...   \n",
      "1               1  168.251459  100.9530    1           3.0  ...   \n",
      "2               1  168.251459  100.9530    1           3.0  ...   \n",
      "3               1  160.020000   70.1064    0           2.0  ...   \n",
      "4               1  168.251459   86.3922    1           2.0  ...   \n",
      "\n",
      "   diastolic_peak  pulse_amplitude  arc_peak_frequency  arc_spectral_energy  \\\n",
      "0      432.481028      3252.798723            4.843582         9.124718e+13   \n",
      "1     1846.580000     15228.070000            2.060000         1.588940e+14   \n",
      "2      258.900000      1482.000000            9.040000         6.147613e+11   \n",
      "3      274.070000      1495.740000            1.600000         6.512250e+11   \n",
      "4      432.481028      3252.798723            4.843582         9.124718e+13   \n",
      "\n",
      "   arc_bandwidth  qrs_freq_power  vf_freq_power  vt_freq_power  qrs_peak_freq  \\\n",
      "0      46.722258     9991.262849    2478.869504    5901.658026       1.775035   \n",
      "1      47.730000    49440.270000   17578.110000   17533.120000       0.480000   \n",
      "2      45.200000       39.600000       6.990000      23.740000       0.000000   \n",
      "3      45.180000       64.370000      13.930000      41.320000       0.000000   \n",
      "4      46.722258     9991.262849    2478.869504    5901.658026       1.775035   \n",
      "\n",
      "   ecg_std_magnitude  \n",
      "0          25.027281  \n",
      "1          72.740000  \n",
      "2           4.130000  \n",
      "3           8.180000  \n",
      "4          25.027281  \n",
      "\n",
      "[5 rows x 27 columns]\n"
     ]
    }
   ],
   "source": [
    "import pandas as pd\n",
    "\n",
    "# 假设 df 是你的DataFrame\n",
    "# 定义要保留的列\n",
    "columns_to_exclude = ['LOG_ID', 'PAT_ID', 'MRN']\n",
    "\n",
    "# 获取需要填充的列（除了这三列之外的其他列）\n",
    "columns_to_fill = df_merged.columns.difference(columns_to_exclude)\n",
    "\n",
    "# 对这些列使用平均值填充缺失值\n",
    "df_merged[columns_to_fill] = df_merged[columns_to_fill].apply(lambda col: col.fillna(col.mean()))\n",
    "\n",
    "# 打印修改后的DataFrame前几行\n",
    "print(df_merged.head())\n"
   ]
  },
  {
   "cell_type": "code",
   "execution_count": 38,
   "id": "1f60718f",
   "metadata": {},
   "outputs": [],
   "source": [
    "# 将 df_merged 保存为 CSV 文件\n",
    "df_merged.to_csv('train_data_merged.csv', index=False)\n",
    "\n",
    "# 如果需要包含索引，可以将 index=True 或直接忽略 index 参数\n"
   ]
  },
  {
   "cell_type": "code",
   "execution_count": null,
   "id": "2d9f3287",
   "metadata": {},
   "outputs": [],
   "source": []
  },
  {
   "cell_type": "code",
   "execution_count": null,
   "id": "7d6db3f2",
   "metadata": {},
   "outputs": [],
   "source": []
  },
  {
   "cell_type": "code",
   "execution_count": null,
   "id": "25c9123c",
   "metadata": {},
   "outputs": [],
   "source": []
  }
 ],
 "metadata": {
  "kernelspec": {
   "display_name": "Python 3 (ipykernel)",
   "language": "python",
   "name": "python3"
  },
  "language_info": {
   "codemirror_mode": {
    "name": "ipython",
    "version": 3
   },
   "file_extension": ".py",
   "mimetype": "text/x-python",
   "name": "python",
   "nbconvert_exporter": "python",
   "pygments_lexer": "ipython3",
   "version": "3.10.9"
  }
 },
 "nbformat": 4,
 "nbformat_minor": 5
}
